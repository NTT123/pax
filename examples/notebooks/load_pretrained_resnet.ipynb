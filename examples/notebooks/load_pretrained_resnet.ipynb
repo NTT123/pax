{
 "cells": [
  {
   "cell_type": "code",
   "execution_count": null,
   "source": [
    "import torchvision\n",
    "import pax\n",
    "import numpy as np"
   ],
   "outputs": [],
   "metadata": {}
  },
  {
   "cell_type": "code",
   "execution_count": null,
   "source": [
    "resnet18 = torchvision.models.resnet18(pretrained=True).eval()"
   ],
   "outputs": [],
   "metadata": {}
  },
  {
   "cell_type": "code",
   "execution_count": null,
   "source": [
    "import torch\n",
    "def convert_conv(conv, name=None):\n",
    "    weight = conv.weight.data.contiguous().permute(2, 3, 1, 0).contiguous().numpy()[:]\n",
    "    # print(conv.in_channels, conv.out_channels, conv.stride, conv.kernel_size)\n",
    "    pax_conv = pax.nn.Conv2D(\n",
    "        in_features=conv.in_channels, \n",
    "        out_features=conv.out_channels, \n",
    "        kernel_shape=conv.kernel_size, \n",
    "        stride=conv.stride, \n",
    "        with_bias=False,\n",
    "        padding=conv.padding,\n",
    "        data_format=\"NCHW\",\n",
    "        name=name\n",
    "    )\n",
    "    assert pax_conv.w.shape == weight.shape\n",
    "    pax_conv.w = weight\n",
    "    return pax_conv\n",
    "\n",
    "\n",
    "def convert_bn(bn, name=None):\n",
    "\n",
    "    weight = bn.weight.data.numpy()[None, :, None, None]\n",
    "    bias = bn.bias.data.numpy()[None, :, None, None]\n",
    "    running_mean = bn.running_mean.data.numpy()[None, :, None, None]\n",
    "    running_var = bn.running_var.data.numpy()[None, :, None, None]\n",
    "    pax_bn = pax.nn.BatchNorm2D(\n",
    "        num_channels=bias.shape[1],\n",
    "        create_offset=True,\n",
    "        create_scale=True,\n",
    "        decay_rate=0.9,\n",
    "        eps=1e-5,\n",
    "        data_format='NC...',\n",
    "        name=name\n",
    "    )\n",
    "    assert pax_bn.params['batch_norm']['scale'].shape == weight.shape\n",
    "    assert pax_bn.params['batch_norm']['offset'].shape == bias.shape\n",
    "    assert pax_bn.state['batch_norm/~/mean_ema']['hidden'].shape == running_mean.shape\n",
    "    assert pax_bn.state['batch_norm/~/mean_ema']['average'].shape == running_mean.shape\n",
    "    assert pax_bn.state['batch_norm/~/var_ema']['hidden'].shape == running_var.shape\n",
    "    assert pax_bn.state['batch_norm/~/var_ema']['average'].shape == running_var.shape\n",
    "\n",
    "    pax_bn.params['batch_norm']['scale'] =  weight\n",
    "    pax_bn.params['batch_norm']['offset'] = bias\n",
    "    \n",
    "\n",
    "    pax_bn.state['batch_norm/~/mean_ema']['counter'] = np.array(0, dtype=np.int32)\n",
    "    pax_bn.state['batch_norm/~/mean_ema']['hidden'] = None\n",
    "    pax_bn.state['batch_norm/~/mean_ema']['average'] = running_mean\n",
    "\n",
    "    pax_bn.state['batch_norm/~/var_ema']['counter'] = np.array(0, dtype=np.int32)\n",
    "    pax_bn.state['batch_norm/~/var_ema']['hidden'] = None\n",
    "    pax_bn.state['batch_norm/~/var_ema']['average'] = running_var\n",
    "\n",
    "    return pax_bn\n",
    "\n",
    "def convert_basic_block(block):\n",
    "    conv1 = convert_conv(block.conv1, name=\"conv1\")\n",
    "    bn1 = convert_bn(block.bn1, name=\"bn1\")\n",
    "    conv2 = convert_conv(block.conv2, name=\"conv2\")\n",
    "    bn2 = convert_bn(block.bn2, name=\"bn2\")\n",
    "\n",
    "    if  block.downsample is not None:\n",
    "        conv0 = convert_conv(block.downsample[0], name=\"proj_conv\")\n",
    "        bn0 = convert_bn(block.downsample[1], name=\"proj_bn\")\n",
    "        return ( (conv1, bn1), (conv2, bn2) ), (conv0, bn0)\n",
    "    else:\n",
    "        return ( (conv1, bn1), (conv2, bn2) ), \n",
    "\n",
    "def convert_block_group(group):\n",
    "    out = []\n",
    "    for i in range(len(group)):\n",
    "        out.append( convert_basic_block(group[i]))\n",
    "    return out\n",
    "\n",
    "def convert_linear(linear):\n",
    "    weight = linear.weight.data.numpy()[:]\n",
    "    bias = linear.bias.data.numpy()[:]\n",
    "    # print('linear', weight.shape)\n",
    "    pax_linear = pax.nn.Linear(in_dim = weight.shape[1], out_dim=weight.shape[0], with_bias=True)\n",
    "    weight = np.ascontiguousarray(np.transpose(weight))\n",
    "\n",
    "    assert pax_linear.b.shape == bias.shape\n",
    "    assert pax_linear.W.shape == weight.shape\n",
    "    pax_linear.W = weight\n",
    "    pax_linear.b = bias\n",
    "    return pax_linear"
   ],
   "outputs": [],
   "metadata": {}
  },
  {
   "cell_type": "code",
   "execution_count": null,
   "source": [
    "pax_resnet = [\n",
    "    convert_conv(resnet18.conv1),\n",
    "    convert_bn(resnet18.bn1),\n",
    "    convert_block_group(resnet18.layer1),\n",
    "    convert_block_group(resnet18.layer2),\n",
    "    convert_block_group(resnet18.layer3),\n",
    "    convert_block_group(resnet18.layer4),\n",
    "    convert_linear(resnet18.fc)\n",
    "]"
   ],
   "outputs": [],
   "metadata": {}
  },
  {
   "cell_type": "code",
   "execution_count": null,
   "source": [
    "rnet = pax.nets.ResNet18(3, 1000)\n",
    "rnet.initial_conv = pax_resnet[0]\n",
    "rnet.initial_batchnorm = pax_resnet[1]\n",
    "for i in range(len(rnet.block_groups)):\n",
    "    bg = rnet.block_groups[i]\n",
    "    for j in range(len(bg.blocks)):\n",
    "        b = bg.blocks[j]\n",
    "        mods = pax_resnet[2 + i][j]\n",
    "        b.layers = mods[0]\n",
    "        if b.use_projection:\n",
    "            b.proj_conv = mods[1][0]\n",
    "            b.proj_batchnorm = mods[1][1]\n",
    "\n",
    "rnet.logits = pax_resnet[-1]"
   ],
   "outputs": [],
   "metadata": {}
  },
  {
   "cell_type": "code",
   "execution_count": null,
   "source": [
    "import jax\n",
    "img = jax.random.normal(jax.random.PRNGKey(11), (1, 3, 224, 224))\n",
    "import einops\n",
    "pax_img = img[:]  # np.ascontiguousarray(einops.rearrange(img, \"N C H W -> N H W C\"))"
   ],
   "outputs": [],
   "metadata": {}
  },
  {
   "cell_type": "code",
   "execution_count": null,
   "source": [
    "import torch"
   ],
   "outputs": [],
   "metadata": {}
  },
  {
   "cell_type": "code",
   "execution_count": null,
   "source": [
    "resnet18(torch.from_numpy(np.copy(jax.device_get(img))))"
   ],
   "outputs": [],
   "metadata": {}
  },
  {
   "cell_type": "code",
   "execution_count": null,
   "source": [
    "rnet = rnet.eval()"
   ],
   "outputs": [],
   "metadata": {}
  },
  {
   "cell_type": "code",
   "execution_count": null,
   "source": [
    "rnet(pax_img)"
   ],
   "outputs": [],
   "metadata": {}
  },
  {
   "cell_type": "code",
   "execution_count": null,
   "source": [
    "# resnet18(torch.from_numpy(jax.device_get(img)))"
   ],
   "outputs": [],
   "metadata": {}
  },
  {
   "cell_type": "code",
   "execution_count": null,
   "source": [
    "# resnet18(torch.from_numpy(np.copy(jax.device_get(img))))"
   ],
   "outputs": [],
   "metadata": {}
  },
  {
   "cell_type": "code",
   "execution_count": null,
   "source": [
    "# print(rnet.summary())"
   ],
   "outputs": [],
   "metadata": {}
  },
  {
   "cell_type": "code",
   "execution_count": null,
   "source": [
    "rnet.eval()(pax_img)"
   ],
   "outputs": [],
   "metadata": {}
  },
  {
   "cell_type": "code",
   "execution_count": null,
   "source": [
    "cbn = convert_bn(resnet18.bn1).eval()\n",
    "cbn(pax_img)[0, 0]"
   ],
   "outputs": [],
   "metadata": {}
  },
  {
   "cell_type": "code",
   "execution_count": null,
   "source": [
    "cbn.params['batch_norm'].keys()"
   ],
   "outputs": [],
   "metadata": {}
  },
  {
   "cell_type": "code",
   "execution_count": null,
   "source": [
    "cbn.state['batch_norm/~/var_ema'].keys()"
   ],
   "outputs": [],
   "metadata": {}
  }
 ],
 "metadata": {
  "orig_nbformat": 4,
  "language_info": {
   "name": "python",
   "version": "3.8.5",
   "mimetype": "text/x-python",
   "codemirror_mode": {
    "name": "ipython",
    "version": 3
   },
   "pygments_lexer": "ipython3",
   "nbconvert_exporter": "python",
   "file_extension": ".py"
  },
  "kernelspec": {
   "name": "python3",
   "display_name": "Python 3.8.5 64-bit"
  },
  "interpreter": {
   "hash": "916dbcbb3f70747c44a77c7bcd40155683ae19c65e1c03b4aa3499c5328201f1"
  }
 },
 "nbformat": 4,
 "nbformat_minor": 2
}