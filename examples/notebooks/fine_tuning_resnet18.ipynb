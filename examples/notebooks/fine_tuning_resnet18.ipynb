{
 "cells": [
  {
   "cell_type": "markdown",
   "source": [
    "# Introduction\n",
    "\n",
    "<a href=\"https://colab.research.google.com/github/ntt123/pax/blob/main/examples/notebooks/fine_tuning_resnet18.ipynb\" target=\"_top\"><img alt=\"Open In Colab\" src=\"https://colab.research.google.com/assets/colab-badge.svg\" style=\"vertical-align:text-bottom\"></a>\n",
    "\n",
    "This example shows how easy it is to fine-tune a `resnet18` model with `Pax`.\n",
    "\n",
    "We will use the pretrained weights from `resnet18` in ``torchvision`` library. See ``pretrained_resnet18.py`` for more details on how we convert a `resnet18` model from pytorch to pax.\n",
    "\n",
    "**Note**: to run this example, you will need to install `pytorch` and `torchvision`: \n",
    "```bash\n",
    "    $ pip3 install torch torchvision\n",
    "```\n",
    "\n",
    "OK, how do we fine-tune `resnet18`?\n",
    "\n",
    "\n",
    "```python\n",
    "resnet18 = load_pretrained_resnet18()\n",
    "resnet18 = resnet18.freeze()\n",
    "resnet18.logits = pax.nn.Linear(resnet18.logits.in_dim, 2)\n",
    "resnet18 = resnet18.train()\n",
    "```\n",
    "\n",
    "Freeze the model, replace the ``logits`` module by a new linear module. That is all we need."
   ],
   "metadata": {}
  },
  {
   "cell_type": "markdown",
   "source": [
    "# Dataloader\n",
    "\n",
    "We use `tensorflow_datasets` to load `dogs vs cats` dataset. \n",
    "\n",
    "**Note**: The ``data_processing`` function is executed on ``GPU`` to make the dataloader faster (even though this dataloader is still NOT fast enough)."
   ],
   "metadata": {}
  },
  {
   "cell_type": "code",
   "execution_count": null,
   "source": [
    "# uncomment to install Pax\n",
    "# !pip3 install -q git+https://github.com/ntt123/pax#egg=pax[test]"
   ],
   "outputs": [],
   "metadata": {}
  },
  {
   "cell_type": "code",
   "execution_count": null,
   "source": [
    "import math\n",
    "\n",
    "import jax\n",
    "import jax.numpy as jnp\n",
    "import matplotlib.pyplot as plt\n",
    "import opax\n",
    "import pax\n",
    "import tensorflow as tf\n",
    "import tensorflow_datasets as tfds\n",
    "from pax.nets import ResNet18\n",
    "from tqdm.auto import tqdm\n",
    "\n",
    "from pretrained_resnet18 import (IMAGENET_MEAN, IMAGENET_STD,\n",
    "                                 load_pretrained_resnet18)\n"
   ],
   "outputs": [],
   "metadata": {}
  },
  {
   "cell_type": "code",
   "execution_count": null,
   "source": [
    "if jax.default_backend() == \"cpu\":\n",
    "    batch_size = 16\n",
    "else:\n",
    "    batch_size = 128\n",
    "test_data_size = 2048\n",
    "num_training_steps = 1_000\n",
    "pax.seed_rng_key(42)\n",
    "learning_rate = 1e-3\n",
    "weight_decay = 1e-4\n",
    "classes = [\"cat\", \"dog\"]"
   ],
   "outputs": [],
   "metadata": {}
  },
  {
   "cell_type": "code",
   "execution_count": null,
   "source": [
    "@tf.function\n",
    "def image_resize(batch):\n",
    "    image = batch[\"image\"]\n",
    "    label = batch[\"label\"]\n",
    "    image = tf.image.resize(image, (224, 224))\n",
    "    return {\"image\": image, \"label\": label}\n",
    "\n",
    "\n",
    "cat_dog_data = tfds.load(\"cats_vs_dogs\")[\"train\"].map(image_resize)\n",
    "\n",
    "\n",
    "@tf.function\n",
    "def data_processing(batch):\n",
    "    with tf.device('/device:gpu:0'):\n",
    "        image = batch[\"image\"]\n",
    "        label = batch[\"label\"]\n",
    "        image = tf.cast(image, tf.float32) / 255.0\n",
    "        mean = tf.constant(IMAGENET_MEAN, dtype=tf.float32)\n",
    "        std = tf.constant(IMAGENET_STD, dtype=tf.float32)\n",
    "        image = (image - mean[None, None, None, :]) / std[None, None, None, :]\n",
    "        return {\"image\": image, \"label\": label}\n",
    "\n",
    "\n",
    "test_data = (\n",
    "    cat_dog_data\n",
    "    .take(test_data_size)\n",
    "    .batch(batch_size, drop_remainder=True)\n",
    "    .map(data_processing)\n",
    ")\n",
    "\n",
    "\n",
    "train_data = (\n",
    "    cat_dog_data\n",
    "    .skip(test_data_size)\n",
    "    .repeat()\n",
    "    .shuffle(20 * batch_size)\n",
    "    .batch(batch_size)\n",
    "    .map(data_processing)\n",
    "    .take(num_training_steps)\n",
    "    .prefetch(1)\n",
    ")"
   ],
   "outputs": [],
   "metadata": {}
  },
  {
   "cell_type": "code",
   "execution_count": null,
   "source": [
    "def plot_images_with_label(images, labels):\n",
    "    L = len(images)\n",
    "    N = int(math.sqrt(L))\n",
    "    L = N*N\n",
    "    plt.figure(figsize=(N, N))\n",
    "    for i in range(L):\n",
    "        plt.subplot(N, N, i + 1)\n",
    "        plt.imshow(images[i])\n",
    "        plt.text(0, -2, labels[i])\n",
    "\n",
    "        plt.axis(\"off\")\n",
    "    plt.show()\n",
    "\n",
    "\n",
    "def show_test_images():\n",
    "    test_batch = next(iter(test_data))\n",
    "    images = jnp.clip(\n",
    "        test_batch[\"image\"].numpy() * IMAGENET_STD + IMAGENET_MEAN, a_min=0.0, a_max=1.0\n",
    "    )\n",
    "    labels = [classes[i] for i in test_batch[\"label\"].numpy().tolist()]\n",
    "    plot_images_with_label(images, labels)\n",
    "\n",
    "\n",
    "show_test_images()"
   ],
   "outputs": [],
   "metadata": {}
  },
  {
   "cell_type": "markdown",
   "source": [
    "# Loss function and accuracy metric"
   ],
   "metadata": {}
  },
  {
   "cell_type": "code",
   "execution_count": null,
   "source": [
    "def loss_fn(params: ResNet18, model: ResNet18, inputs) -> pax.utils.LossFnOutput:\n",
    "    model = pax.update_params(model, params=params)\n",
    "    image, label = inputs[\"image\"], inputs[\"label\"]\n",
    "    image = jnp.transpose(image, (0, 3, 1, 2))\n",
    "    logits = model(image)\n",
    "\n",
    "    log_pr = jax.nn.log_softmax(logits, axis=-1)\n",
    "    label = jax.nn.one_hot(label, num_classes=log_pr.shape[-1])\n",
    "    log_pr = jnp.sum(label * log_pr, axis=-1)\n",
    "    loss = -jnp.mean(log_pr)\n",
    "    return loss, (loss, model)\n",
    "\n",
    "def test_loss_fn(model: ResNet18, inputs):\n",
    "    model = model.eval()\n",
    "    loss = loss_fn(model.parameters(), model, inputs)[0]\n",
    "    return loss\n",
    "\n",
    "fast_test_loss_fn = pax.jit(test_loss_fn)\n",
    "\n",
    "update_fn = pax.utils.build_update_fn(loss_fn)\n",
    "fast_update_fn = pax.jit(update_fn)\n",
    "\n",
    "@pax.jit\n",
    "def predict(model, images):\n",
    "    model = model.eval()\n",
    "    images = jnp.transpose(images, (0, 3, 1, 2))\n",
    "    logits = model(images)\n",
    "    return jnp.argmax(logits, axis=-1)\n",
    "\n",
    "def test_accuracy(model, test_data):\n",
    "    num_correct_predictions, total = 0, 0\n",
    "    for batch in test_data:\n",
    "        batch = jax.tree_map(lambda x: x.numpy(), batch)\n",
    "        predicted_label = predict(model, batch['image'])\n",
    "        num_correct_predictions = num_correct_predictions + jnp.sum(predicted_label == batch['label'])\n",
    "        total = total + batch['image'].shape[0]\n",
    "    \n",
    "    return num_correct_predictions.item() / total"
   ],
   "outputs": [],
   "metadata": {}
  },
  {
   "cell_type": "markdown",
   "source": [
    "# Fine-tuning model"
   ],
   "metadata": {}
  },
  {
   "cell_type": "code",
   "execution_count": null,
   "source": [
    "def train():\n",
    "    resnet18 = load_pretrained_resnet18()\n",
    "    resnet18 = resnet18.freeze()\n",
    "    resnet18.logits = pax.nn.Linear(resnet18.logits.in_dim, 2)\n",
    "    resnet18 = resnet18.train()\n",
    "\n",
    "    opt = opax.adamw(\n",
    "        learning_rate=learning_rate,\n",
    "        weight_decay=weight_decay,\n",
    "    )(resnet18.parameters())\n",
    "\n",
    "        \n",
    "    losses = 0.0\n",
    "\n",
    "    for step, batch in enumerate(tqdm(train_data), 1):\n",
    "        batch = jax.tree_map(lambda x: x.numpy(), batch)\n",
    "        (resnet18, opt), loss = fast_update_fn((resnet18, opt), batch)\n",
    "        losses = losses + loss\n",
    "\n",
    "        if step % 100 == 0:\n",
    "            train_loss = losses / 100\n",
    "            losses = 0.0\n",
    "\n",
    "            total_test_loss = 0.\n",
    "            for batch in test_data:\n",
    "                batch = jax.tree_map(lambda x: x.numpy(), batch)\n",
    "                loss = fast_test_loss_fn(resnet18, batch)\n",
    "                total_test_loss = total_test_loss + loss\n",
    "            test_loss = total_test_loss / len(test_data)\n",
    "            print(f\"[step {step}]  train loss {train_loss:.3f}  test loss {test_loss:.3f}\")\n",
    "\n",
    "\n",
    "    print(\"Final test accuracy:\", test_accuracy(resnet18, test_data))\n",
    "    return resnet18\n",
    "\n",
    "resnet18 = train()"
   ],
   "outputs": [],
   "metadata": {}
  },
  {
   "cell_type": "markdown",
   "source": [
    "# Evaluation"
   ],
   "metadata": {}
  },
  {
   "cell_type": "code",
   "execution_count": null,
   "source": [
    "def plot_model_prediction(model):\n",
    "    test_batch = next(iter(test_data))\n",
    "    test_batch = jax.tree_map(lambda x: x.numpy(), test_batch)\n",
    "    test_image, test_label = test_batch[\"image\"], test_batch[\"label\"]\n",
    "    test_image = jnp.transpose(test_image, axes=(0, 3, 1, 2))\n",
    "\n",
    "    logit = model.eval()(test_image)\n",
    "    predicted_label = jnp.argmax(logit, axis=-1)\n",
    "\n",
    "    predicted_class = [classes[i] for i in predicted_label.tolist()]\n",
    "\n",
    "    to_plot_test_image = test_batch[\"image\"]\n",
    "    to_plot_test_image = jnp.clip(\n",
    "        to_plot_test_image * IMAGENET_STD + IMAGENET_MEAN, a_min=0.0, a_max=1.0\n",
    "    )\n",
    "    plot_images_with_label(to_plot_test_image, predicted_class)\n",
    "\n",
    "plot_model_prediction(resnet18)"
   ],
   "outputs": [],
   "metadata": {}
  }
 ],
 "metadata": {
  "orig_nbformat": 4,
  "language_info": {
   "name": "python",
   "version": "3.8.5",
   "mimetype": "text/x-python",
   "codemirror_mode": {
    "name": "ipython",
    "version": 3
   },
   "pygments_lexer": "ipython3",
   "nbconvert_exporter": "python",
   "file_extension": ".py"
  },
  "kernelspec": {
   "name": "python3",
   "display_name": "Python 3.8.5 64-bit"
  },
  "interpreter": {
   "hash": "31f2aee4e71d21fbe5cf8b01ff0e069b9275f58929596ceb00d14d90e3e16cd6"
  }
 },
 "nbformat": 4,
 "nbformat_minor": 2
}