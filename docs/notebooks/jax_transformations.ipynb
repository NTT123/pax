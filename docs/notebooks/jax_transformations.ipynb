{
 "cells": [
  {
   "cell_type": "markdown",
   "metadata": {},
   "source": [
    "# JAX transformations\n",
    "\n",
    "In this tutorial, we provide pieces of advice on mixing PAX and JAX transformations.\n"
   ]
  },
  {
   "cell_type": "code",
   "execution_count": 1,
   "metadata": {},
   "outputs": [],
   "source": [
    "import jax\n",
    "import jax.numpy as jnp\n",
    "import pax\n",
    "from typing import Dict\n",
    "from absl import logging"
   ]
  },
  {
   "cell_type": "code",
   "execution_count": 2,
   "metadata": {},
   "outputs": [
    {
     "name": "stdout",
     "output_type": "stream",
     "text": [
      "Exception reporting mode: Minimal\n"
     ]
    }
   ],
   "source": [
    "%xmode Minimal\n",
    "logging.set_verbosity(logging.FATAL)"
   ]
  },
  {
   "cell_type": "markdown",
   "metadata": {},
   "source": [
    "JAX transformations have a similar effect on a function as `pax.pure` does.\n",
    "We can only access a copy of the inputs. Any modification on the copy will not affect the original inputs.\n",
    "\n",
    "Let's try with a simple example:"
   ]
  },
  {
   "cell_type": "code",
   "execution_count": 3,
   "metadata": {},
   "outputs": [],
   "source": [
    "def print_id_and_value(c: Dict[str, int], msg=\"\"):\n",
    "    print(f'({msg}) id {id(c)}  counter {c[\"count\"]}')"
   ]
  },
  {
   "cell_type": "code",
   "execution_count": 4,
   "metadata": {},
   "outputs": [],
   "source": [
    "@jax.jit\n",
    "def increase_counter(c):\n",
    "    c[\"count\"] += 1  # increase counter\n",
    "    print_id_and_value(c, \"inside\")"
   ]
  },
  {
   "cell_type": "code",
   "execution_count": 5,
   "metadata": {},
   "outputs": [
    {
     "name": "stdout",
     "output_type": "stream",
     "text": [
      "(before) id 140438671691264  counter 1\n",
      "(inside) id 140437229406400  counter Traced<ShapedArray(int32[], weak_type=True)>with<DynamicJaxprTrace(level=0/1)>\n",
      "(after ) id 140438671691264  counter 1\n"
     ]
    }
   ],
   "source": [
    "c = {\"count\": 1}\n",
    "print_id_and_value(c, \"before\")\n",
    "increase_counter(c)\n",
    "print_id_and_value(c, \"after \")"
   ]
  },
  {
   "cell_type": "markdown",
   "metadata": {},
   "source": [
    "Note that, inside the jitted function `increase_counter`, the counter `c` is a different object (different _id_) compared to the counter `c` outside of the function. Therefore, modifications of `c` inside `increase_counter` will not affect the `c` outside.\n",
    "\n",
    "This behavior is very similar to `pax.pure`. In fact, `pax.pure` mimics this behavior from JAX transformations."
   ]
  },
  {
   "cell_type": "markdown",
   "metadata": {},
   "source": [
    "Now, things get complicated when we use JAX transformations inside a function decorated by `pax.pure`.\n",
    "\n",
    "In the following toy example, we have a `RNN` module that uses `jax.lax.scan` to _scan_ the inputs with the function `scan_fn`.\n",
    "Besides, the `scan_fn` function also updates the internal state of a `Counter` module."
   ]
  },
  {
   "cell_type": "code",
   "execution_count": 6,
   "metadata": {},
   "outputs": [],
   "source": [
    "class Counter(pax.StateModule):\n",
    "    def __init__(self):\n",
    "        self.count = jnp.array(0)\n",
    "\n",
    "    def __call__(self, x):\n",
    "        self.count = self.count + 1\n",
    "        return x"
   ]
  },
  {
   "cell_type": "code",
   "execution_count": 7,
   "metadata": {},
   "outputs": [],
   "source": [
    "class RNN(pax.Module):\n",
    "    def __init__(self):\n",
    "        self.counter = Counter()\n",
    "\n",
    "    def __call__(self, xs):\n",
    "        def scan_fn(c: Counter, x):\n",
    "            y = c(x)\n",
    "            return c, y\n",
    "\n",
    "        _, y = jax.lax.scan(scan_fn, init=self.counter, xs=xs)\n",
    "        return y"
   ]
  },
  {
   "cell_type": "code",
   "execution_count": 8,
   "metadata": {},
   "outputs": [
    {
     "ename": "ValueError",
     "evalue": "Cannot modify a module in immutable mode.\nPlease do this computation inside a function decorated by `pax.pure`.",
     "output_type": "error",
     "traceback": [
      "\u001b[0;31mUnfilteredStackTrace\u001b[0m\u001b[0;31m:\u001b[0m ValueError: Cannot modify a module in immutable mode.\nPlease do this computation inside a function decorated by `pax.pure`.\n\nThe stack trace below excludes JAX-internal frames.\nThe preceding is the original exception that occurred, unmodified.\n\n--------------------\n",
      "\nThe above exception was the direct cause of the following exception:\n",
      "\u001b[0;31mValueError\u001b[0m\u001b[0;31m:\u001b[0m Cannot modify a module in immutable mode.\nPlease do this computation inside a function decorated by `pax.pure`.\n"
     ]
    }
   ],
   "source": [
    "rnn = RNN()\n",
    "xs = jnp.arange(0, 10)\n",
    "rnn, ys = pax.module_and_value(rnn)(xs)"
   ]
  },
  {
   "cell_type": "markdown",
   "metadata": {},
   "source": [
    "Oops! PAX prevents us to update the counter even though we did run `rnn` with `pax.module_and_value`.\n",
    "\n",
    "This is because `jax.lax.scan`, similar to `jax.jit`, executes the function `scan_fn` on a copy of its input modules. Moreover, this copy is immutable in our case.\n",
    "\n",
    ".. note::\n",
    "    Only input modules of functions decorated by `pax.pure` are mutable. A _copy_ of an input module is still immutable."
   ]
  },
  {
   "cell_type": "markdown",
   "metadata": {},
   "source": [
    "In this case, we have to use `pax.module_and_value` inside `scan_fn`. Below is a working implementation:"
   ]
  },
  {
   "cell_type": "code",
   "execution_count": 9,
   "metadata": {},
   "outputs": [],
   "source": [
    "class RNN(pax.Module):\n",
    "    def __init__(self):\n",
    "        self.counter = Counter()\n",
    "\n",
    "    def __call__(self, xs):\n",
    "        def scan_fn(c: Counter, x):\n",
    "            c, y = pax.module_and_value(c)(x)\n",
    "            return c, y\n",
    "\n",
    "        self.counter, y = jax.lax.scan(scan_fn, init=self.counter, xs=xs)\n",
    "        return y"
   ]
  },
  {
   "cell_type": "code",
   "execution_count": 10,
   "metadata": {},
   "outputs": [
    {
     "name": "stdout",
     "output_type": "stream",
     "text": [
      "Count = 10\n"
     ]
    }
   ],
   "source": [
    "rnn = RNN()\n",
    "xs = jnp.arange(0, 10)\n",
    "rnn, ys = pax.module_and_value(rnn)(xs)\n",
    "print(f\"Count = {rnn.counter.count}\")"
   ]
  },
  {
   "cell_type": "markdown",
   "metadata": {},
   "source": [
    "Now, let's try another example. In the following, we have a jitted function `fn` trying to call `self.counter`."
   ]
  },
  {
   "cell_type": "code",
   "execution_count": 11,
   "metadata": {},
   "outputs": [],
   "source": [
    "class BadModule(pax.Module):\n",
    "    def __init__(self):\n",
    "        self.counter = Counter()\n",
    "\n",
    "    def __call__(self, x):\n",
    "        @jax.jit\n",
    "        def fn(x):\n",
    "            y = self.counter(x)\n",
    "            return y\n",
    "\n",
    "        y = fn(x)\n",
    "        return y"
   ]
  },
  {
   "cell_type": "code",
   "execution_count": 12,
   "metadata": {},
   "outputs": [
    {
     "ename": "ValueError",
     "evalue": "Cannot modify a module in immutable mode.\nPlease do this computation inside a function decorated by `pax.pure`.",
     "output_type": "error",
     "traceback": [
      "\u001b[0;31mUnfilteredStackTrace\u001b[0m\u001b[0;31m:\u001b[0m ValueError: Cannot modify a module in immutable mode.\nPlease do this computation inside a function decorated by `pax.pure`.\n\nThe stack trace below excludes JAX-internal frames.\nThe preceding is the original exception that occurred, unmodified.\n\n--------------------\n",
      "\nThe above exception was the direct cause of the following exception:\n",
      "\u001b[0;31mValueError\u001b[0m\u001b[0;31m:\u001b[0m Cannot modify a module in immutable mode.\nPlease do this computation inside a function decorated by `pax.pure`.\n"
     ]
    }
   ],
   "source": [
    "mod = BadModule()\n",
    "x = jnp.array(0.0)\n",
    "mod, y = pax.module_and_value(mod)(x)"
   ]
  },
  {
   "cell_type": "markdown",
   "metadata": {},
   "source": [
    "In this example, PAX also prevents `fn` to modify `self.counter`.\n",
    "This is PAX's mechanism to prevent leaks\n",
    "when a traced function at a higher level of abstraction \n",
    "trying to modify a module that is created at a lower level of abstraction.\n",
    "\n",
    ".. note:: \n",
    "    All modules created at lower levels of abstraction than the current level are immutable."
   ]
  },
  {
   "cell_type": "markdown",
   "metadata": {},
   "source": [
    "A correct implementation should pass `self.counter` as an argument to the function `fn`."
   ]
  },
  {
   "cell_type": "code",
   "execution_count": 13,
   "metadata": {},
   "outputs": [],
   "source": [
    "class GoodModule(pax.Module):\n",
    "    def __init__(self):\n",
    "        self.counter = Counter()\n",
    "\n",
    "    def __call__(self, x):\n",
    "        @jax.jit\n",
    "        def fn(c: Counter, x):\n",
    "            c, y = pax.module_and_value(c)(x)\n",
    "            return c, y\n",
    "\n",
    "        self.counter, y = fn(self.counter, x)\n",
    "        return y"
   ]
  },
  {
   "cell_type": "code",
   "execution_count": 14,
   "metadata": {},
   "outputs": [
    {
     "name": "stdout",
     "output_type": "stream",
     "text": [
      "Count = 0\n",
      "Count = 1\n"
     ]
    }
   ],
   "source": [
    "mod = GoodModule()\n",
    "x = jnp.array(0.0)\n",
    "print(f\"Count = {mod.counter.count}\")\n",
    "mod, y = pax.module_and_value(mod)(x)\n",
    "print(f\"Count = {mod.counter.count}\")"
   ]
  }
 ],
 "metadata": {
  "interpreter": {
   "hash": "88def209548811c4c6bb73a46fea51093a5f2d5f030112f8d328964201e2ee67"
  },
  "kernelspec": {
   "display_name": "Python 3.8.10 64-bit ('.venv': venv)",
   "name": "python3"
  },
  "language_info": {
   "codemirror_mode": {
    "name": "ipython",
    "version": 3
   },
   "file_extension": ".py",
   "mimetype": "text/x-python",
   "name": "python",
   "nbconvert_exporter": "python",
   "pygments_lexer": "ipython3",
   "version": "3.8.10"
  },
  "orig_nbformat": 4
 },
 "nbformat": 4,
 "nbformat_minor": 2
}
