{
 "cells": [
  {
   "cell_type": "markdown",
   "metadata": {},
   "source": [
    "# Jax transformations\n",
    "\n",
    "In this tutorial, we provide advices on mixing PAX and JAX transformations.\n"
   ]
  },
  {
   "cell_type": "markdown",
   "metadata": {},
   "source": [
    "JAX transformations have a similar effect to a function as `pax.pure` does. We can only access the copy of the inputs. Any modification on the copy will not affect the original inputs."
   ]
  },
  {
   "cell_type": "code",
   "execution_count": 1,
   "metadata": {},
   "outputs": [
    {
     "name": "stderr",
     "output_type": "stream",
     "text": [
      "WARNING:absl:No GPU/TPU found, falling back to CPU. (Set TF_CPP_MIN_LOG_LEVEL=0 and rerun for more info.)\n"
     ]
    },
    {
     "name": "stdout",
     "output_type": "stream",
     "text": [
      "(before) id 140356786673344  counter 1\n",
      "(inside) id 140355314101312  counter Traced<ShapedArray(int32[], weak_type=True)>with<DynamicJaxprTrace(level=0/1)>\n",
      "(after ) id 140356786673344  counter 1\n"
     ]
    }
   ],
   "source": [
    "import jax\n",
    "import jax.numpy as jnp\n",
    "import pax\n",
    "from typing import Dict\n",
    "\n",
    "\n",
    "def print_id_and_value(c: Dict[str, int], msg=\"\"):\n",
    "    print(f'({msg}) id {id(c)}  counter {c[\"count\"]}')\n",
    "\n",
    "\n",
    "@jax.jit\n",
    "def increase_counter(c):\n",
    "    c[\"count\"] += 1  # increase counter\n",
    "    print_id_and_value(c, \"inside\")\n",
    "\n",
    "\n",
    "c = {\"count\": 1}\n",
    "print_id_and_value(c, \"before\")\n",
    "increase_counter(c)\n",
    "print_id_and_value(c, \"after \")"
   ]
  },
  {
   "cell_type": "markdown",
   "metadata": {},
   "source": [
    "Note that inside the jitted function counter `c` is a different object (different id) compared to the counter `c` outside of the function. Therefore, modifications of `c` inside `increase_counter` will not affect `c` outside.\n",
    "\n",
    "This behaviour is very similar to `pax.pure`. In fact, `pax.pure` mimics this behaviour from JAX transformations."
   ]
  },
  {
   "cell_type": "markdown",
   "metadata": {},
   "source": [
    "\n",
    "Things get complicated when we use JAX transformations inside a function decorated by `pax.pure`."
   ]
  },
  {
   "cell_type": "code",
   "execution_count": 2,
   "metadata": {},
   "outputs": [
    {
     "name": "stdout",
     "output_type": "stream",
     "text": [
      "Counter = 0\n"
     ]
    }
   ],
   "source": [
    "class Counter(pax.Module):\n",
    "    counter: jnp.ndarray\n",
    "\n",
    "    def __init__(self):\n",
    "        super().__init__()\n",
    "        self.register_state(\"counter\", jnp.array(0))\n",
    "\n",
    "    def __call__(self, x):\n",
    "        self.counter = self.counter + 1\n",
    "        return x\n",
    "\n",
    "\n",
    "class RNN(pax.Module):\n",
    "    def __init__(self):\n",
    "        super().__init__()\n",
    "        self.counter = Counter()\n",
    "\n",
    "    def __call__(self, xs):\n",
    "        def _f(c: Counter, x):\n",
    "            y = c(x)\n",
    "            return c, y\n",
    "\n",
    "        _, y = jax.lax.scan(_f, init=self.counter, xs=xs)\n",
    "        return y\n",
    "\n",
    "\n",
    "rnn = RNN()\n",
    "xs = jnp.arange(0, 10)\n",
    "\n",
    "# ys = rnn(xs)  <-- this does not work because PAX modules are immutable by default\n",
    "rnn, ys = pax.module_and_value(rnn)(xs)  # <-- this works _incorrectly_\n",
    "print(f\"Counter = {rnn.counter.counter}\")"
   ]
  },
  {
   "cell_type": "markdown",
   "metadata": {},
   "source": [
    "Counter is not updated! \n",
    "\n",
    "`jax.lax.scan`, similar to `jax.jit`, prevents side effects to happend. Therefore, we have to update `self.counter` after `jax.lax.scan` is finished.\n",
    "Below is the correct implementation:"
   ]
  },
  {
   "cell_type": "code",
   "execution_count": 3,
   "metadata": {},
   "outputs": [
    {
     "name": "stdout",
     "output_type": "stream",
     "text": [
      "Counter = 10\n"
     ]
    }
   ],
   "source": [
    "class RNNv2(RNN):\n",
    "    def __call__(self, xs):\n",
    "        def _f(c: Counter, x):\n",
    "            y = c(x)\n",
    "            return c, y\n",
    "\n",
    "        self.counter, y = jax.lax.scan(_f, init=self.counter, xs=xs)\n",
    "        return y\n",
    "\n",
    "\n",
    "rnn = RNNv2()\n",
    "xs = jnp.arange(0, 10)\n",
    "\n",
    "rnn, ys = pax.module_and_value(rnn)(xs)  # <-- this works correctly!\n",
    "print(f\"Counter = {rnn.counter.counter}\")"
   ]
  },
  {
   "cell_type": "markdown",
   "metadata": {},
   "source": [
    "Bad things can happen if we execute JAX transformations with mutability turned on."
   ]
  },
  {
   "cell_type": "code",
   "execution_count": 4,
   "metadata": {},
   "outputs": [],
   "source": [
    "class RNNv3(RNN):\n",
    "    def __call__(self, xs):\n",
    "        @jax.jit\n",
    "        def _f(x):\n",
    "            y = self.counter(x)  #  <-- bad\n",
    "            return y\n",
    "\n",
    "        y = _f(xs[0])\n",
    "        return y\n",
    "\n",
    "\n",
    "rnn = RNNv3()\n",
    "xs = jnp.arange(0, 10)\n",
    "\n",
    "# rnn, ys = pax.module_and_value(rnn)(xs)  <-- throw exception\n",
    "# [...]\n",
    "# Exception: Leaked sublevel 1. Leaked tracer(s): [Traced<ShapedArray(int32[])>with<DynamicJaxprTrace(level=1/1)>]."
   ]
  },
  {
   "cell_type": "markdown",
   "metadata": {},
   "source": [
    "The statement `y = self.counter(x)` causes an exception. \n",
    "JAX leaked tracers detected that `self.counter.counter` is modified even though it is not an input of the jitted function `_f`. A correct implementation should pass `self.counter` as an argument to the function `_f`."
   ]
  },
  {
   "cell_type": "code",
   "execution_count": 5,
   "metadata": {},
   "outputs": [
    {
     "name": "stdout",
     "output_type": "stream",
     "text": [
      "Counter = 0\n",
      "Counter = 2\n"
     ]
    }
   ],
   "source": [
    "class RNNv4(RNN):\n",
    "    def __call__(self, xs):\n",
    "        @jax.jit\n",
    "        def _f(c: Counter, x):\n",
    "            y = c(x)  #\n",
    "            return c, y  # return c to make updates available outside of _f\n",
    "\n",
    "        self.counter, y = _f(self.counter, xs[0])\n",
    "        return y\n",
    "\n",
    "\n",
    "rnn = RNNv4()\n",
    "xs = jnp.arange(0, 10)\n",
    "\n",
    "print(f\"Counter = {rnn.counter.counter}\")\n",
    "rnn, ys = pax.module_and_value(rnn)(xs)\n",
    "rnn, ys = pax.module_and_value(rnn)(xs)\n",
    "print(f\"Counter = {rnn.counter.counter}\")"
   ]
  }
 ],
 "metadata": {
  "interpreter": {
   "hash": "31f2aee4e71d21fbe5cf8b01ff0e069b9275f58929596ceb00d14d90e3e16cd6"
  },
  "kernelspec": {
   "display_name": "Python 3.9.2 64-bit",
   "name": "python3"
  },
  "language_info": {
   "codemirror_mode": {
    "name": "ipython",
    "version": 3
   },
   "file_extension": ".py",
   "mimetype": "text/x-python",
   "name": "python",
   "nbconvert_exporter": "python",
   "pygments_lexer": "ipython3",
   "version": "3.9.2"
  },
  "orig_nbformat": 4
 },
 "nbformat": 4,
 "nbformat_minor": 2
}
