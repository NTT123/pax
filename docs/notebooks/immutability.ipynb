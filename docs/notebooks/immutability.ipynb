{
 "cells": [
  {
   "cell_type": "markdown",
   "source": [
    "# Immutability\n",
    "\n",
    "Pax allows users to modify Pax's modules. However, many Jax transformations such as `jax.jit`, `jax.grad`, `jax.vmap`, `jax.pmap` requires a pure functions.\n",
    "\n",
    "Therefore, it is a good practice to keep Pax's modules immutable. This will prevent many undefined behaviors due to side effects.\n",
    "\n",
    "By default, Pax's modules are immutable. However, Pax provides `pax.mutate` transformation which enables mutable mode when needed (for example, doing model surgery)."
   ],
   "metadata": {}
  },
  {
   "cell_type": "code",
   "execution_count": null,
   "source": [
    "# uncomment the following line to install pax\n",
    "# !pip install -q git+https://github.com/NTT123/pax.git"
   ],
   "outputs": [],
   "metadata": {}
  },
  {
   "cell_type": "code",
   "execution_count": 1,
   "source": [
    "import pax\n",
    "import jax.numpy as jnp\n",
    "\n",
    "class M1(pax.Module):\n",
    "    def __init__(self):\n",
    "        super().__init__()\n",
    "        self.fc = pax.nn.Linear(2, 2)\n",
    "        self.counter = 0\n",
    "    \n",
    "    def __call__(self, x):\n",
    "        self.counter = self.counter + 1\n",
    "        y = self.fc(x)\n",
    "    \n",
    "    def __repr__(self):\n",
    "        return self.__class__.__name__ + f'(counter={self.counter})'\n",
    "\n",
    "x = jnp.zeros((3, 2))\n",
    "m1 = M1()\n",
    "print(m1)\n",
    "m1(x)\n",
    "print(m1)\n",
    "\n",
    "with pax.ctx.immutable():\n",
    "    m1(x)\n",
    "    print(m1)"
   ],
   "outputs": [
    {
     "output_type": "stream",
     "name": "stderr",
     "text": [
      "WARNING:absl:No GPU/TPU found, falling back to CPU. (Set TF_CPP_MIN_LOG_LEVEL=0 and rerun for more info.)\n",
      "WARNING:root:Seeding RNG key with seed 42. Use `pax.seed_rng_key` function to avoid this warning.\n"
     ]
    },
    {
     "output_type": "stream",
     "name": "stdout",
     "text": [
      "M1(counter=0)\n"
     ]
    },
    {
     "output_type": "error",
     "ename": "ValueError",
     "evalue": "Cannot assign an attribute of kind `PaxFieldKind.OTHERS` in immutable mode.",
     "traceback": [
      "\u001b[0;31m---------------------------------------------------------------------------\u001b[0m",
      "\u001b[0;31mValueError\u001b[0m                                Traceback (most recent call last)",
      "\u001b[0;32m<ipython-input-1-bf548c560783>\u001b[0m in \u001b[0;36m<module>\u001b[0;34m\u001b[0m\n\u001b[1;32m     18\u001b[0m \u001b[0mm1\u001b[0m \u001b[0;34m=\u001b[0m \u001b[0mM1\u001b[0m\u001b[0;34m(\u001b[0m\u001b[0;34m)\u001b[0m\u001b[0;34m\u001b[0m\u001b[0;34m\u001b[0m\u001b[0m\n\u001b[1;32m     19\u001b[0m \u001b[0mprint\u001b[0m\u001b[0;34m(\u001b[0m\u001b[0mm1\u001b[0m\u001b[0;34m)\u001b[0m\u001b[0;34m\u001b[0m\u001b[0;34m\u001b[0m\u001b[0m\n\u001b[0;32m---> 20\u001b[0;31m \u001b[0mm1\u001b[0m\u001b[0;34m(\u001b[0m\u001b[0mx\u001b[0m\u001b[0;34m)\u001b[0m\u001b[0;34m\u001b[0m\u001b[0;34m\u001b[0m\u001b[0m\n\u001b[0m\u001b[1;32m     21\u001b[0m \u001b[0mprint\u001b[0m\u001b[0;34m(\u001b[0m\u001b[0mm1\u001b[0m\u001b[0;34m)\u001b[0m\u001b[0;34m\u001b[0m\u001b[0;34m\u001b[0m\u001b[0m\n\u001b[1;32m     22\u001b[0m \u001b[0;34m\u001b[0m\u001b[0m\n",
      "\u001b[0;32m<ipython-input-1-bf548c560783>\u001b[0m in \u001b[0;36m__call__\u001b[0;34m(self, x)\u001b[0m\n\u001b[1;32m      9\u001b[0m \u001b[0;34m\u001b[0m\u001b[0m\n\u001b[1;32m     10\u001b[0m     \u001b[0;32mdef\u001b[0m \u001b[0m__call__\u001b[0m\u001b[0;34m(\u001b[0m\u001b[0mself\u001b[0m\u001b[0;34m,\u001b[0m \u001b[0mx\u001b[0m\u001b[0;34m)\u001b[0m\u001b[0;34m:\u001b[0m\u001b[0;34m\u001b[0m\u001b[0;34m\u001b[0m\u001b[0m\n\u001b[0;32m---> 11\u001b[0;31m         \u001b[0mself\u001b[0m\u001b[0;34m.\u001b[0m\u001b[0mcounter\u001b[0m \u001b[0;34m=\u001b[0m \u001b[0mself\u001b[0m\u001b[0;34m.\u001b[0m\u001b[0mcounter\u001b[0m \u001b[0;34m+\u001b[0m \u001b[0;36m1\u001b[0m\u001b[0;34m\u001b[0m\u001b[0;34m\u001b[0m\u001b[0m\n\u001b[0m\u001b[1;32m     12\u001b[0m         \u001b[0my\u001b[0m \u001b[0;34m=\u001b[0m \u001b[0mself\u001b[0m\u001b[0;34m.\u001b[0m\u001b[0mfc\u001b[0m\u001b[0;34m(\u001b[0m\u001b[0mx\u001b[0m\u001b[0;34m)\u001b[0m\u001b[0;34m\u001b[0m\u001b[0;34m\u001b[0m\u001b[0m\n\u001b[1;32m     13\u001b[0m \u001b[0;34m\u001b[0m\u001b[0m\n",
      "\u001b[0;32m~/pax/pax/_src/module.py\u001b[0m in \u001b[0;36m__setattr__\u001b[0;34m(self, name, value)\u001b[0m\n\u001b[1;32m    134\u001b[0m                 \u001b[0msuper\u001b[0m\u001b[0;34m(\u001b[0m\u001b[0;34m)\u001b[0m\u001b[0;34m.\u001b[0m\u001b[0m__setattr__\u001b[0m\u001b[0;34m(\u001b[0m\u001b[0mname\u001b[0m\u001b[0;34m,\u001b[0m \u001b[0mvalue\u001b[0m\u001b[0;34m)\u001b[0m\u001b[0;34m\u001b[0m\u001b[0;34m\u001b[0m\u001b[0m\n\u001b[1;32m    135\u001b[0m             \u001b[0;32melse\u001b[0m\u001b[0;34m:\u001b[0m\u001b[0;34m\u001b[0m\u001b[0;34m\u001b[0m\u001b[0m\n\u001b[0;32m--> 136\u001b[0;31m                 raise ValueError(\n\u001b[0m\u001b[1;32m    137\u001b[0m                     \u001b[0;34mf\"Cannot assign an attribute of kind `{kind}` in immutable mode.\"\u001b[0m\u001b[0;34m\u001b[0m\u001b[0;34m\u001b[0m\u001b[0m\n\u001b[1;32m    138\u001b[0m                 )\n",
      "\u001b[0;31mValueError\u001b[0m: Cannot assign an attribute of kind `PaxFieldKind.OTHERS` in immutable mode."
     ]
    }
   ],
   "metadata": {}
  },
  {
   "cell_type": "markdown",
   "source": [
    "Unfortunately, Pax cannot catch all mutated objects. For example, it cannot detect if we modified a container."
   ],
   "metadata": {}
  },
  {
   "cell_type": "code",
   "execution_count": 3,
   "source": [
    "class M2(pax.Module):\n",
    "    def __init__(self):\n",
    "        super().__init__()\n",
    "        self.fc = pax.nn.Linear(2, 2)\n",
    "        self.a_list = [0]\n",
    "    \n",
    "    def __call__(self, x):\n",
    "        self.a_list.append(0)\n",
    "        y = self.fc(x)\n",
    "    \n",
    "    def __repr__(self):\n",
    "        return self.__class__.__name__ + f'(a_list={self.a_list})'\n",
    "\n",
    "x = jnp.zeros((3, 2))\n",
    "m2 = M2()\n",
    "print(m2)\n",
    "m2(x)\n",
    "print(m2)\n",
    "\n",
    "m2(x)\n",
    "print(m2)"
   ],
   "outputs": [
    {
     "output_type": "stream",
     "name": "stdout",
     "text": [
      "M2(a_list=[0])\n",
      "M2(a_list=[0, 0])\n",
      "M2(a_list=[0, 0, 0])\n"
     ]
    }
   ],
   "metadata": {}
  },
  {
   "cell_type": "markdown",
   "source": [
    "In these cases, Pax does the second-best thing: it guarantees that copies\n",
    "of a module will not be affected when the original module is mutated."
   ],
   "metadata": {}
  },
  {
   "cell_type": "code",
   "execution_count": 4,
   "source": [
    "print(\"m2 before:\", m2)\n",
    "m3 = m2.copy()\n",
    "m2(x)\n",
    "print(\"m3       :\", m3)\n",
    "print(\"m2 after :\", m2)"
   ],
   "outputs": [
    {
     "output_type": "stream",
     "name": "stdout",
     "text": [
      "m2 before: M2(a_list=[0, 0, 0])\n",
      "m3       : M2(a_list=[0, 0, 0])\n",
      "m2 after : M2(a_list=[0, 0, 0, 0])\n"
     ]
    }
   ],
   "metadata": {}
  },
  {
   "cell_type": "markdown",
   "source": [
    "Because immutability is important for Jax's transformations, Pax provides wrappers of these transformations with additional safeguards turned on. Pax includes: ``pax.jit``, ``pax.grad``, ``pax.vmap``, ``pax.pmap`` as alternatives to Jax's transformations."
   ],
   "metadata": {}
  }
 ],
 "metadata": {
  "orig_nbformat": 4,
  "language_info": {
   "name": "python",
   "version": "3.8.5",
   "mimetype": "text/x-python",
   "codemirror_mode": {
    "name": "ipython",
    "version": 3
   },
   "pygments_lexer": "ipython3",
   "nbconvert_exporter": "python",
   "file_extension": ".py"
  },
  "kernelspec": {
   "name": "python3",
   "display_name": "Python 3.8.5 64-bit"
  },
  "interpreter": {
   "hash": "31f2aee4e71d21fbe5cf8b01ff0e069b9275f58929596ceb00d14d90e3e16cd6"
  }
 },
 "nbformat": 4,
 "nbformat_minor": 2
}