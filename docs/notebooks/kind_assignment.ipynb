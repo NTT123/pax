{
 "cells": [
  {
   "cell_type": "markdown",
   "metadata": {},
   "source": [
    "# Kind assignments\n",
    "\n",
    "This tutorial shows how the PAX kind assignment system works."
   ]
  },
  {
   "cell_type": "markdown",
   "metadata": {},
   "source": [
    "## Direct kind assignment\n",
    "\n",
    "The most straightforward way to assign kinds to attributes is to call `self.set_attribute_kind` method. For example:"
   ]
  },
  {
   "cell_type": "code",
   "execution_count": 1,
   "metadata": {},
   "outputs": [
    {
     "name": "stderr",
     "output_type": "stream",
     "text": [
      "WARNING:absl:No GPU/TPU found, falling back to CPU. (Set TF_CPP_MIN_LOG_LEVEL=0 and rerun for more info.)\n"
     ]
    },
    {
     "name": "stdout",
     "output_type": "stream",
     "text": [
      "PaxModuleInfo[training=True, nodes={weight:PARAMETER, counter:STATE, fc:MODULE}]\n"
     ]
    }
   ],
   "source": [
    "import jax\n",
    "import jax.numpy as jnp\n",
    "import pax\n",
    "from pax import PaxKind\n",
    "\n",
    "pax.seed_rng_key(42)\n",
    "\n",
    "\n",
    "class M(pax.Module):\n",
    "    def __init__(self):\n",
    "        super().__init__()\n",
    "        self.weight = jnp.array(0.0)\n",
    "        self.counter = jnp.array(0)\n",
    "        self.fc = pax.nn.Linear(3, 3)\n",
    "\n",
    "        self.set_attribute_kind(\n",
    "            weight=PaxKind.PARAMETER,\n",
    "            counter=PaxKind.STATE,\n",
    "            fc=PaxKind.MODULE,\n",
    "        )\n",
    "\n",
    "\n",
    "m = M()\n",
    "print(m.pax)"
   ]
  },
  {
   "cell_type": "markdown",
   "metadata": {},
   "source": [
    "PAX also provides a more concise way to register attributes with `self.register_*` methods."
   ]
  },
  {
   "cell_type": "code",
   "execution_count": 2,
   "metadata": {},
   "outputs": [
    {
     "name": "stdout",
     "output_type": "stream",
     "text": [
      "PaxModuleInfo[training=True, nodes={weight:PARAMETER, counter:STATE, fc:MODULE}]\n"
     ]
    }
   ],
   "source": [
    "class M1(pax.Module):\n",
    "    def __init__(self):\n",
    "        super().__init__()\n",
    "        self.register_parameter(\"weight\", jnp.array(0.0))\n",
    "        self.register_state(\"counter\", jnp.array(0))\n",
    "        self.register_module(\"fc\", pax.nn.Linear(3, 3))\n",
    "\n",
    "\n",
    "m1 = M1()\n",
    "print(m1.pax)"
   ]
  },
  {
   "cell_type": "markdown",
   "metadata": {},
   "source": [
    "Behind the scene, `self.register_*` methods do two things:\n",
    "\n",
    "1. `self.__setattr__(name, value)`\n",
    "2. `self.set_attribute_kind(**{name: kind})`"
   ]
  },
  {
   "cell_type": "markdown",
   "metadata": {},
   "source": [
    "## Delayed kind assignment\n",
    "\n",
    "### The `_default_kind` context manager\n",
    "\n",
    "It is cumbersome that we have to set kind for every attribute manually. \n",
    "To get rid of this inconvenience, PAX introduces the `_default_kind` context manager.\n",
    "Let's see how to use it with an example."
   ]
  },
  {
   "cell_type": "code",
   "execution_count": 3,
   "metadata": {},
   "outputs": [
    {
     "name": "stdout",
     "output_type": "stream",
     "text": [
      "PaxModuleInfo[training=True, nodes={fc3:MODULE, fc2:MODULE, fc1:MODULE}]\n"
     ]
    }
   ],
   "source": [
    "class M3(pax.Module):\n",
    "    def __init__(self):\n",
    "        super().__init__()\n",
    "        with self._default_kind(PaxKind.MODULE):\n",
    "            self.fc1 = pax.nn.Linear(1, 2)\n",
    "            self.fc2 = pax.nn.Linear(2, 3)\n",
    "            self.fc3 = pax.nn.Linear(3, 4)\n",
    "\n",
    "    def __call__(self, x):\n",
    "        x = jax.nn.relu(self.fc1(x))\n",
    "        x = jax.nn.relu(self.fc2(x))\n",
    "        x = jax.nn.relu(self.fc2(x))\n",
    "        return x\n",
    "\n",
    "\n",
    "m3 = M3()\n",
    "print(m3.pax)"
   ]
  },
  {
   "cell_type": "markdown",
   "metadata": {},
   "source": [
    "Behind the scene, the `_default_kind` context manager searches for unregistered attributes created inside the context and assigns their kind to the default kind."
   ]
  },
  {
   "cell_type": "markdown",
   "metadata": {},
   "source": [
    ".. warning:: Only pytrees of ndarray or modules are considered by `_default_kind` context managers. Moreover, a pytree of ndarray's will not be considered as of kind `MODULE` and a pytreee of modules will not be considered as of kind `PARAMETER` or `STATE`.\n",
    "```python\n",
    "# only consider module objects\n",
    "with self._default_kind(PaxKind.MODULE): \n",
    "    self.a = 123 # not considered\n",
    "    self.b = jnp.array(0) # not considered \n",
    "    self.c = pax.nn.Linear(3, 3) # considered\n",
    "\n",
    "# only consider pytree of ndarray\n",
    "with self._default_kind(PaxKind.PARAMETER): \n",
    "    self.d = 123 # not considered\n",
    "    self.e = jnp.array(0.) # considered\n",
    "    self.f = pax.nn.Linear(3, 3) # not considered\n",
    "```"
   ]
  },
  {
   "cell_type": "markdown",
   "metadata": {},
   "source": [
    "### Why delay kind assignment?\n",
    "\n",
    "The kind assignment actions are delayed to the end of the context. This feature is used to resolve ambiguities when an attribute is created as an empty container. For example:\n",
    "\n",
    "```python\n",
    "self.a = []\n",
    "```\n",
    "\n",
    "At this stage, PAX does not have enough information to decide if `self.a` is a pytree of ndarray/module or just a normal list (of integers, for example).\n",
    "However, if we append a ndarray to the list, the ambiguities are resolved.\n",
    "\n",
    "```python\n",
    "self.a = []\n",
    "self.a.append(jnp.array(0))\n",
    "```\n",
    "\n",
    "Therefore, PAX delays the decision to the end of the context when the attribute is fully initialized.\n",
    "\n",
    "```python\n",
    "with self._default_kind(PaxKind.STATE):\n",
    "    self.a = []\n",
    "    self.a.append(jnp.array(0))\n",
    "```"
   ]
  },
  {
   "cell_type": "markdown",
   "metadata": {},
   "source": [
    "### Shortcuts"
   ]
  },
  {
   "cell_type": "markdown",
   "metadata": {},
   "source": [
    "It is still a bit inconvenient that we have to write `with self._default_kind(...)` for every module.\n",
    "To get rid of this, PAX introduces three shortcuts:"
   ]
  },
  {
   "cell_type": "markdown",
   "metadata": {},
   "source": [
    "Firstly, every `__init__` method of PAX modules will be executed inside a `self._default_kind(PaxKind.MODULE)` context.\n",
    "Hence, submodules inside `__init__` are registered at the end of the `__init__` method, automatically."
   ]
  },
  {
   "cell_type": "code",
   "execution_count": 4,
   "metadata": {},
   "outputs": [
    {
     "name": "stdout",
     "output_type": "stream",
     "text": [
      "PaxModuleInfo[training=True, nodes={fc3:MODULE, fc1:MODULE, fc2:MODULE}]\n"
     ]
    }
   ],
   "source": [
    "class M3v2(pax.Module):\n",
    "    def __init__(self):\n",
    "        super().__init__()\n",
    "        self.fc1 = pax.nn.Linear(1, 2)\n",
    "        self.fc2 = pax.nn.Linear(2, 3)\n",
    "        self.fc3 = pax.nn.Linear(3, 4)\n",
    "\n",
    "    def __call__(self, x):\n",
    "        x = jax.nn.relu(self.fc1(x))\n",
    "        x = jax.nn.relu(self.fc2(x))\n",
    "        x = jax.nn.relu(self.fc2(x))\n",
    "        return x\n",
    "\n",
    "\n",
    "m3v2 = M3v2()\n",
    "print(m3v2.pax)"
   ]
  },
  {
   "cell_type": "markdown",
   "metadata": {},
   "source": [
    "Secondly, PAX introduces `pax.ParameterModule` and `pax.StateModule` classes that execute the `__init__` method inside a `self._default_kind(PaxKind.{PARAMETER,STATE})` context.\n",
    "Hence, new attributes inside `__init__` method of these classes will be registered automatically."
   ]
  },
  {
   "cell_type": "code",
   "execution_count": 5,
   "metadata": {},
   "outputs": [
    {
     "name": "stdout",
     "output_type": "stream",
     "text": [
      "m5.pax PaxModuleInfo[training=True, nodes={bias:PARAMETER, weight:PARAMETER}]\n",
      "m6.pax PaxModuleInfo[training=True, nodes={bias:STATE, weight:STATE}]\n"
     ]
    }
   ],
   "source": [
    "class M5(pax.ParameterModule):\n",
    "    def __init__(self):\n",
    "        super().__init__()\n",
    "        self.weight = jnp.array(1.0)\n",
    "        self.bias = jnp.array(0.0)\n",
    "\n",
    "\n",
    "m5 = M5()\n",
    "print(\"m5.pax\", m5.pax)\n",
    "\n",
    "\n",
    "class M6(pax.StateModule):\n",
    "    def __init__(self):\n",
    "        super().__init__()\n",
    "        self.weight = jnp.array(1.0)\n",
    "        self.bias = jnp.array(0.0)\n",
    "\n",
    "\n",
    "m6 = M6()\n",
    "print(\"m6.pax\", m6.pax)"
   ]
  },
  {
   "cell_type": "markdown",
   "metadata": {},
   "source": [
    "Lastly, PAX also introduces `self.add_{parameters,states}` methods as shortcuts for `self._default_kind(PaxKind.{PARAMETER,STATE})`."
   ]
  },
  {
   "cell_type": "code",
   "execution_count": 6,
   "metadata": {},
   "outputs": [
    {
     "name": "stdout",
     "output_type": "stream",
     "text": [
      "m7.pax PaxModuleInfo[training=True, nodes={bias:PARAMETER, weight:PARAMETER, counter:STATE}]\n"
     ]
    }
   ],
   "source": [
    "class M7(pax.Module):\n",
    "    def __init__(self):\n",
    "        super().__init__()\n",
    "        with self.add_parameters():\n",
    "            self.weight = jnp.array(1.0)\n",
    "            self.bias = jnp.array(0.0)\n",
    "\n",
    "        with self.add_states():\n",
    "            self.counter = jnp.array(0)\n",
    "\n",
    "\n",
    "m7 = M7()\n",
    "print(\"m7.pax\", m7.pax)"
   ]
  }
 ],
 "metadata": {
  "interpreter": {
   "hash": "88def209548811c4c6bb73a46fea51093a5f2d5f030112f8d328964201e2ee67"
  },
  "kernelspec": {
   "display_name": "Python 3.8.6 64-bit ('.venv': venv)",
   "language": "python",
   "name": "python3"
  },
  "language_info": {
   "codemirror_mode": {
    "name": "ipython",
    "version": 3
   },
   "file_extension": ".py",
   "mimetype": "text/x-python",
   "name": "python",
   "nbconvert_exporter": "python",
   "pygments_lexer": "ipython3",
   "version": "3.8.10"
  },
  "orig_nbformat": 4
 },
 "nbformat": 4,
 "nbformat_minor": 2
}
