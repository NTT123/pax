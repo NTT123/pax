{
 "cells": [
  {
   "cell_type": "markdown",
   "metadata": {
    "id": "vhmqzGvAm80Z"
   },
   "source": [
    "# Improve performance\n",
    "\n",
    "Even though `jax.jit` can eliminate almost all performance penalties related to PAX, there is a small cost of calling `tree_flatten` and `tree_unflatten` for the inputs and outputs of a jitted function.\n",
    "\n",
    "In this tutorial, we will measure PAX's performance. We also introduce practices that help to improve performance.\n",
    "\n",
    ".. note::\n",
    "    PAX's performance penalties are usually less than 1% of the training time. Most of the time, we can ignore it."
   ]
  },
  {
   "cell_type": "markdown",
   "metadata": {},
   "source": [
    "Let us start with a simple code for training a ResNet50 classifier."
   ]
  },
  {
   "cell_type": "code",
   "execution_count": 1,
   "metadata": {},
   "outputs": [],
   "source": [
    "# uncomment the following line to install pax\n",
    "# !pip install -q git+https://github.com/NTT123/pax.git"
   ]
  },
  {
   "cell_type": "code",
   "execution_count": 2,
   "metadata": {
    "colab": {
     "base_uri": "https://localhost:8080/"
    },
    "id": "jixDaQMym80j",
    "outputId": "f4f8a766-b061-46d8-ab3a-7cb6530a6a64"
   },
   "outputs": [
    {
     "name": "stderr",
     "output_type": "stream",
     "text": [
      "WARNING:root:Seeding RNG key with seed 42. Use `pax.seed_rng_key` function to avoid this warning.\n",
      "WARNING:absl:No GPU/TPU found, falling back to CPU. (Set TF_CPP_MIN_LOG_LEVEL=0 and rerun for more info.)\n"
     ]
    }
   ],
   "source": [
    "import pax, jax, opax\n",
    "import jax.numpy as jnp\n",
    "from pax.nets import ResNet50\n",
    "\n",
    "\n",
    "def loss_fn(model: ResNet50, inputs):\n",
    "    images, labels = inputs\n",
    "    model, logits = pax.module_and_value(model)(images)\n",
    "    log_pr = jax.nn.log_softmax(logits, axis=-1)\n",
    "    loss = jnp.mean(jnp.sum(jax.nn.one_hot(labels, num_classes=10) * log_pr, axis=-1))\n",
    "    return loss, (loss, model)\n",
    "\n",
    "\n",
    "@jax.jit\n",
    "def update(model, optimizer, inputs):\n",
    "    grads, (loss, model) = jax.grad(loss_fn, has_aux=True)(model, inputs)\n",
    "    model, optimizer = opax.apply_gradients(model, optimizer, grads=grads)\n",
    "    return model, optimizer, loss\n",
    "\n",
    "\n",
    "net = ResNet50(3, 10)\n",
    "optimizer = opax.adam(1e-4)(net.parameters())\n",
    "\n",
    "rng_key = jax.random.PRNGKey(42)\n",
    "img = jax.random.normal(rng_key, (1, 3, 64, 64))\n",
    "label = jax.random.randint(rng_key, (1,), 0, 10)\n",
    "# loss, net, optimizer = update(net, optimizer, (img, label))"
   ]
  },
  {
   "cell_type": "code",
   "execution_count": 3,
   "metadata": {
    "colab": {
     "base_uri": "https://localhost:8080/"
    },
    "id": "4J1bqP1em80r",
    "outputId": "8656877b-9d01-4796-afb9-8163f48aefeb"
   },
   "outputs": [
    {
     "name": "stdout",
     "output_type": "stream",
     "text": [
      "Duration: 48.098253741976805\n"
     ]
    }
   ],
   "source": [
    "import time\n",
    "\n",
    "start = time.perf_counter()\n",
    "for i in range(10_000):\n",
    "    a, b = jax.tree_flatten((net, optimizer))\n",
    "    net, optimizer = jax.tree_unflatten(b, a)\n",
    "end = time.perf_counter()\n",
    "print(\"Duration:\", end - start)"
   ]
  },
  {
   "cell_type": "markdown",
   "metadata": {
    "id": "jnZNeI2qpC60"
   },
   "source": [
    "It takes 48.0 seconds to execute 10,000 iterations of `tree_flatten` and `tree_unflatten` for  the tuple `net, optimizer`.\n",
    "\n",
    "This is approximately the extra time (we have to wait) when training a ResNet50 network with an `opax.adam` optimizer for 10,000 iterations."
   ]
  },
  {
   "cell_type": "markdown",
   "metadata": {
    "id": "h1evjLQrqHDe"
   },
   "source": [
    "## Flatten optimizer\n",
    "\n",
    "One easy way to reduce the time is to use the `flatten` mode supported by `opax` optimizers."
   ]
  },
  {
   "cell_type": "code",
   "execution_count": 4,
   "metadata": {
    "id": "CjYQTqugm80s"
   },
   "outputs": [],
   "source": [
    "optimizer = opax.adam(1e-4)(net.parameters(), flatten=True)"
   ]
  },
  {
   "cell_type": "markdown",
   "metadata": {
    "id": "-SWWQIbYqb6K"
   },
   "source": [
    "In this mode, the optimizer will automatically flatten the parameters and gradients to a list of leaves instead of dealing with the full tree structure. This reduces the `flatten` and `unflatten` time of the optimizer to almost zero.\n",
    "\n",
    "However, we are no longer able to access the optimizer's pytree objects. \n",
    "Fortunately, we rarely need to access the optimizer's pytree objects, and one can easily convert the flatten list back to the pytree object using `jax.tree_unflatten` function.\n"
   ]
  },
  {
   "cell_type": "code",
   "execution_count": 5,
   "metadata": {
    "colab": {
     "base_uri": "https://localhost:8080/"
    },
    "id": "Jo4k-MwHm80t",
    "outputId": "4472ed5e-de15-4754-e441-dc6d195fd601"
   },
   "outputs": [
    {
     "name": "stdout",
     "output_type": "stream",
     "text": [
      "Duration: 9.533488509012386\n"
     ]
    }
   ],
   "source": [
    "import time\n",
    "\n",
    "start = time.perf_counter()\n",
    "for i in range(10_000):\n",
    "    a, b = jax.tree_flatten((net, optimizer))\n",
    "    net, optimizer = jax.tree_unflatten(b, a)\n",
    "end = time.perf_counter()\n",
    "print(\"Duration:\", end - start)"
   ]
  },
  {
   "cell_type": "code",
   "execution_count": 6,
   "metadata": {
    "colab": {
     "base_uri": "https://localhost:8080/"
    },
    "id": "M0I79hxtn9qe",
    "outputId": "4ea6c885-1000-414c-c912-0e20861269fe"
   },
   "outputs": [
    {
     "name": "stdout",
     "output_type": "stream",
     "text": [
      "Duration: 0.39248717698501423\n"
     ]
    }
   ],
   "source": [
    "start = time.perf_counter()\n",
    "for i in range(10_000):\n",
    "    a, b = jax.tree_flatten(optimizer)\n",
    "    optimizer = jax.tree_unflatten(b, a)\n",
    "end = time.perf_counter()\n",
    "print(\"Duration:\", end - start)"
   ]
  },
  {
   "cell_type": "markdown",
   "metadata": {
    "id": "PPmiJJ7Ks6W0"
   },
   "source": [
    "With `flatten=True` we reduce the time to only 9.5 seconds. And the time to `flatten`/`unflatten` the `optimizer` alone is close to zero (0.39 seconds)."
   ]
  },
  {
   "cell_type": "markdown",
   "metadata": {
    "id": "i5ttrXP2tRTH"
   },
   "source": [
    "## Multi-step update function\n",
    "\n",
    "Another solution to reduce the time for `flatten`/`unflatten` is to execute multiple update steps inside a jitted function."
   ]
  },
  {
   "cell_type": "code",
   "execution_count": 7,
   "metadata": {
    "id": "AVdCuvf0m80v"
   },
   "outputs": [],
   "source": [
    "num_steps = 10\n",
    "\n",
    "\n",
    "@jax.jit\n",
    "def multistep_update(model, optimizer, inputs):\n",
    "    def _step(m_o, i):\n",
    "        m, o, aux = update(*m_o, i)\n",
    "        return (m, o), aux\n",
    "\n",
    "    (model, optimizer), losses = pax.scan(_step, (model, optimizer), inputs)\n",
    "    return model, optimizer, jnp.mean(losses)\n",
    "\n",
    "\n",
    "multistep_img = jax.random.normal(rng_key, (num_steps, 1, 3, 64, 64))\n",
    "multistep_label = jax.random.randint(rng_key, (num_steps, 1), 0, 10)\n",
    "# loss, net, optimizer = multistep_update(net, optimizer, (multistep_img, multistep_label))"
   ]
  },
  {
   "cell_type": "markdown",
   "metadata": {
    "id": "ybEmPKTQt03C"
   },
   "source": [
    "The `multistep_update` function will execute multiple update steps in a single call.\n",
    "If `num_steps=10`, we can reduce the time by a factor of `10`."
   ]
  },
  {
   "cell_type": "markdown",
   "metadata": {
    "id": "hDU0JdBjuPiE"
   },
   "source": [
    ".. note::\n",
    "    The practice of executing multiple update steps inside a jitted function is also very useful for TPU. It reduces the communication cost between CPU host and TPU cores, significantly."
   ]
  },
  {
   "cell_type": "markdown",
   "metadata": {
    "id": "0FzwKNEN57Al"
   },
   "source": [
    "## Flatten model"
   ]
  },
  {
   "cell_type": "markdown",
   "metadata": {
    "id": "x9zy1WtMvBvF"
   },
   "source": [
    "We have reduced the time to `flatten`/`unflatten` the optimizer to almost zero. We can do the same thing for the model too.\n",
    "\n",
    "The idea is simple: we want to put `flatten` and `unflatten` to the inside of the update function."
   ]
  },
  {
   "cell_type": "code",
   "execution_count": 8,
   "metadata": {
    "id": "nDvYIwCmvl9r"
   },
   "outputs": [],
   "source": [
    "from functools import partial\n",
    "\n",
    "\n",
    "@partial(jax.jit, static_argnums=0)\n",
    "def flatten_update(model_def, model_leaves_and_optimizer, inputs):\n",
    "    model_leaves, optimizer = model_leaves_and_optimizer\n",
    "    model = jax.tree_unflatten(model_def, model_leaves)\n",
    "    params = model.parameters()\n",
    "    grads, (loss, model) = jax.grad(loss_fn, has_aux=True)(params, model, inputs)\n",
    "    model, optimizer = opax.apply_gradients(model, optimizer, grads=grads)\n",
    "    return (jax.tree_leaves(model), optimizer), loss"
   ]
  },
  {
   "cell_type": "code",
   "execution_count": 9,
   "metadata": {
    "id": "bPtPze3kwTzm"
   },
   "outputs": [],
   "source": [
    "net_leaves, net_def = jax.tree_flatten(net)\n",
    "# loss, net_leaves, optimizer = flatten_update(net_def, net_leaves, optimizer, (img, label))"
   ]
  },
  {
   "cell_type": "code",
   "execution_count": 10,
   "metadata": {
    "colab": {
     "base_uri": "https://localhost:8080/"
    },
    "id": "6XTe1Rq8m806",
    "outputId": "9d46f02f-e296-4e70-e4a8-02c85c5aa56c"
   },
   "outputs": [
    {
     "name": "stdout",
     "output_type": "stream",
     "text": [
      "Duration: 0.6711433200107422\n"
     ]
    }
   ],
   "source": [
    "start = time.perf_counter()\n",
    "for i in range(10_000):\n",
    "    a, b = jax.tree_flatten((net_leaves, optimizer))\n",
    "    (net_leaves, optimizer) = jax.tree_unflatten(b, a)\n",
    "end = time.perf_counter()\n",
    "print(\"Duration:\", end - start)"
   ]
  },
  {
   "cell_type": "markdown",
   "metadata": {},
   "source": [
    "We now only wait an extra time of `0.67` seconds when training a ResNet50 for 10,000 steps.\n",
    "\n",
    "However, we have to manually recreate the model from its leaves and tree_def."
   ]
  },
  {
   "cell_type": "code",
   "execution_count": 11,
   "metadata": {},
   "outputs": [],
   "source": [
    "net = jax.tree_unflatten(net_def, net_leaves)"
   ]
  },
  {
   "cell_type": "markdown",
   "metadata": {},
   "source": [
    "PAX provides a similar functionality with `pax.flatten_module`. It creates a new module with all parameters and states are flatten."
   ]
  },
  {
   "cell_type": "code",
   "execution_count": 12,
   "metadata": {},
   "outputs": [],
   "source": [
    "flatten_net = pax.flatten_module(net)\n",
    "\n",
    "# to recreate the original module\n",
    "net = flatten_net.unflatten()"
   ]
  },
  {
   "cell_type": "markdown",
   "metadata": {},
   "source": [
    "The functionality of `flatten_module` is limited as it is designed for performance purposes only."
   ]
  }
 ],
 "metadata": {
  "accelerator": "GPU",
  "colab": {
   "collapsed_sections": [],
   "machine_shape": "hm",
   "name": "PAX's Performance.ipynb",
   "provenance": []
  },
  "interpreter": {
   "hash": "31f2aee4e71d21fbe5cf8b01ff0e069b9275f58929596ceb00d14d90e3e16cd6"
  },
  "kernelspec": {
   "display_name": "Python 3.8.10 64-bit",
   "name": "python3"
  },
  "language_info": {
   "codemirror_mode": {
    "name": "ipython",
    "version": 3
   },
   "file_extension": ".py",
   "mimetype": "text/x-python",
   "name": "python",
   "nbconvert_exporter": "python",
   "pygments_lexer": "ipython3",
   "version": "3.8.10"
  },
  "orig_nbformat": 4
 },
 "nbformat": 4,
 "nbformat_minor": 2
}
