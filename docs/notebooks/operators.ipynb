{
 "cells": [
  {
   "cell_type": "markdown",
   "metadata": {},
   "source": [
    "# Operators\n",
    "\n",
    "There are few operators that help to clean up the implementation.\n",
    "\n",
    "\n",
    "\n",
    "| Text      | Operator |\n",
    "| ----------- | ----------- |\n",
    "| `mod, z = pax.module_and_value(mod)(x, y)`      | `mod, z = mod % (x, y)`       |\n",
    "| `mod.parameters()`   | `~mod`        |\n",
    "| `pax.update_pytree(mod1, mod2)`   | `mod1 | mod2`        |\n",
    "| `mod1.update_parameters(mod2)`   | `mod1 | ~mod2`        |\n",
    "| `f = pax.nn.Sequential(mod1, mod2)`   | `f = pax.nn.Sequential() >> mod1 >> mod2`        |\n",
    "\n",
    "\n",
    "\n"
   ]
  },
  {
   "cell_type": "markdown",
   "metadata": {},
   "source": []
  }
 ],
 "metadata": {
  "interpreter": {
   "hash": "4f946df053fbf2b937619d3c5458e7af74262f9a954d8797ba0b27400bcafe06"
  },
  "kernelspec": {
   "display_name": "Python 3.8.6 64-bit",
   "name": "python3"
  },
  "language_info": {
   "codemirror_mode": {
    "name": "ipython",
    "version": 3
   },
   "file_extension": ".py",
   "mimetype": "text/x-python",
   "name": "python",
   "nbconvert_exporter": "python",
   "pygments_lexer": "ipython3",
   "version": "3.8.6"
  },
  "orig_nbformat": 4
 },
 "nbformat": 4,
 "nbformat_minor": 2
}
