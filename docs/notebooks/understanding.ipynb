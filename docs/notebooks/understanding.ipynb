{
 "cells": [
  {
   "cell_type": "markdown",
   "metadata": {},
   "source": [
    "# Understanding PAX's module\n",
    "\n",
    "This tutorial shows how to build a PAX-like module for neural network training from scratch."
   ]
  },
  {
   "cell_type": "markdown",
   "metadata": {},
   "source": [
    "## Pytree"
   ]
  },
  {
   "cell_type": "code",
   "execution_count": 1,
   "metadata": {},
   "outputs": [],
   "source": [
    "import jax\n",
    "from types import MappingProxyType\n",
    "from typing import OrderedDict, Any\n",
    "from enum import Enum"
   ]
  },
  {
   "cell_type": "markdown",
   "metadata": {},
   "source": [
    "First, let's talk about _pytree_.\n",
    "\n",
    "Pytrees are tree-like structures that are constructed from Python object containers. Here are a few examples of pytree:"
   ]
  },
  {
   "cell_type": "code",
   "execution_count": 2,
   "metadata": {},
   "outputs": [],
   "source": [
    "a = 123\n",
    "b = [1, 2, 3]\n",
    "d = (1, 2, 3)\n",
    "c = {\"1\": 1, \"2\": 2, \"3\": 3}\n",
    "e = [(1, 2), \"123\", {\"1\": 1, \"2\": [4, 5]}]"
   ]
  },
  {
   "cell_type": "markdown",
   "metadata": {},
   "source": [
    "JAX provides the `jax.tree_flatten` function that transforms an object into its tree representation that includes:\n",
    "\n",
    "- `leaves`: a list of tree leaves.\n",
    "- `treedef`: information about the structure of the tree."
   ]
  },
  {
   "cell_type": "code",
   "execution_count": 3,
   "metadata": {},
   "outputs": [
    {
     "name": "stdout",
     "output_type": "stream",
     "text": [
      "Leaves: [1, 2, '123', 1, 4, 5]\n",
      "TreeDef: PyTreeDef([(*, *), *, {'1': *, '2': [*, *]}])\n"
     ]
    }
   ],
   "source": [
    "leaves, treedef = jax.tree_flatten(e)\n",
    "print(\"Leaves:\", leaves)\n",
    "print(\"TreeDef:\", treedef)"
   ]
  },
  {
   "cell_type": "markdown",
   "metadata": {},
   "source": [
    ".. note:: Even though a pytree can have any object at its leaves, many jax functions such as ``jax.jit``, ``jax.lax.scan``, ``jax.grad``, etc. only support pytrees with `ndarray` leaves.\n",
    "\n",
    "We can reverse ``jax.tree_flatten`` transformation with ``jax.tree_unflatten``:"
   ]
  },
  {
   "cell_type": "code",
   "execution_count": 4,
   "metadata": {},
   "outputs": [
    {
     "data": {
      "text/plain": [
       "[(1, 2), '123', {'1': 1, '2': [4, 5]}]"
      ]
     },
     "execution_count": 4,
     "metadata": {},
     "output_type": "execute_result"
    }
   ],
   "source": [
    "jax.tree_unflatten(treedef=treedef, leaves=leaves)"
   ]
  },
  {
   "cell_type": "markdown",
   "metadata": {},
   "source": [
    "## A simple PAX module\n",
    "\n",
    "Now let's try to build a simple PAX module. The core idea here is that:\n",
    "\n",
    "> **A module is also a pytree.**\n",
    "\n",
    "To let JAX knows how to flatten and unflatten a _pytree_ module:\n",
    "\n",
    "1. It needs to implement two methods: ``tree_flatten`` and ``tree_unflatten``.\n",
    "2. It is registered as a pytree node."
   ]
  },
  {
   "cell_type": "code",
   "execution_count": 5,
   "metadata": {},
   "outputs": [],
   "source": [
    "@jax.tree_util.register_pytree_node_class\n",
    "class Module:\n",
    "    def __init__(self, mylist):\n",
    "        self.mylist = mylist\n",
    "        self.is_training = True\n",
    "\n",
    "    def tree_flatten(self):\n",
    "        chilren = [self.mylist]\n",
    "        aux_info = {\"is_training\": self.is_training}\n",
    "        return chilren, aux_info\n",
    "\n",
    "    @classmethod\n",
    "    def tree_unflatten(cls, aux_info, children):\n",
    "        new_object = cls.__new__(cls)\n",
    "        new_object.mylist = children[0]\n",
    "        new_object.is_training = aux_info[\"is_training\"]\n",
    "        return new_object\n",
    "\n",
    "    def __str__(self):\n",
    "        name = self.__class__.__name__\n",
    "        info = f\"mylist={self.mylist}, is_training={self.is_training}\"\n",
    "        return f\"{name}({info})\""
   ]
  },
  {
   "cell_type": "markdown",
   "metadata": {},
   "source": [
    "The function ``jax.tree_util.register_pytree_node_class`` registers `Module` as a class of pytree nodes.\n",
    "\n",
    "Let's try to flatten and unflatten a module."
   ]
  },
  {
   "cell_type": "code",
   "execution_count": 6,
   "metadata": {},
   "outputs": [
    {
     "name": "stdout",
     "output_type": "stream",
     "text": [
      "Module(mylist=[1, 2, 3], is_training=True)\n",
      "[1, 2, 3] PyTreeDef(CustomNode(<class '__main__.Module'>[{'is_training': True}], [[*, *, *]]))\n",
      "Module(mylist=[1, 2, 3], is_training=True)\n"
     ]
    }
   ],
   "source": [
    "mod = Module([1, 2, 3])\n",
    "print(mod)\n",
    "leaves, tree_def = jax.tree_flatten(mod)\n",
    "print(leaves, tree_def)\n",
    "new_mod = jax.tree_unflatten(tree_def, leaves)\n",
    "print(new_mod)"
   ]
  },
  {
   "cell_type": "markdown",
   "metadata": {},
   "source": [
    "**Note:** ``is_training`` is considered as part of the PyTreeDef."
   ]
  },
  {
   "cell_type": "markdown",
   "metadata": {},
   "source": [
    "## Introducing ``register_subtree`` method\n",
    "\n",
    "OK, but our pytree module only supports ``mylist`` and ``is_training`` attributes. A _real_ module for neural network training can have an arbitrary number of attributes.\n",
    "\n",
    "Moreover, how can our module know that ``mylist`` is part of the subtree while ``is_training`` belongs to the tree definition?\n",
    "\n",
    "One solution is:\n",
    "\n",
    "1. to keep a set (namely, ``tree_part_names``) that tells if an attribute is part of the tree or not.\n",
    "2. users need to _register_ if an attribute is part of the tree.\n",
    "3. any attribute that is not registered belongs to the tree definition."
   ]
  },
  {
   "cell_type": "code",
   "execution_count": 7,
   "metadata": {},
   "outputs": [],
   "source": [
    "@jax.tree_util.register_pytree_node_class\n",
    "class Module:\n",
    "    def __init__(self):\n",
    "        self.tree_part_names = frozenset()\n",
    "        self.is_training = True\n",
    "\n",
    "    def tree_flatten(self):\n",
    "        children = []\n",
    "        others = []\n",
    "        children_names = []\n",
    "\n",
    "        for name, value in vars(self).items():\n",
    "            if name in self.tree_part_names:\n",
    "                children.append(value)\n",
    "                children_names.append(name)\n",
    "            else:\n",
    "                others.append((name, value))\n",
    "        return children, (children_names, others)\n",
    "\n",
    "    @classmethod\n",
    "    def tree_unflatten(cls, aux_info, children):\n",
    "        children_names, others = aux_info\n",
    "        new_object = cls.__new__(cls)\n",
    "        new_object.__dict__.update(others)\n",
    "        new_object.__dict__.update(zip(children_names, children))\n",
    "        return new_object\n",
    "\n",
    "    def register_subtree(self, name, value):\n",
    "        self.__dict__[name] = value\n",
    "        self.tree_part_names = self.tree_part_names.union([name])\n",
    "\n",
    "    def __init_subclass__(cls):\n",
    "        jax.tree_util.register_pytree_node_class(cls)"
   ]
  },
  {
   "cell_type": "markdown",
   "metadata": {},
   "source": [
    "Our new module has ``register_subtree`` method that adds attribute's name to the ``tree_part_names`` set. \n",
    "\n",
    "The ``tree_flatten`` method lists all attributes of the object and checks if its name is in ``tree_part_names`` or not. If it is, its value will be added to the ``children`` list, otherwise, ``(name, value)`` will be added to the ``others`` list. \n",
    "\n",
    "The ``tree_unflatten`` method combines information from ``others``, ``children_names``, and ``children`` to reconstruct the module.\n",
    "\n",
    "**Note:** \n",
    "\n",
    "1. We purposely use `frozenset` to guarantee that any modification of `tree_part_names` in one module does not affect other modules. \n",
    "(However, this is not guaranteed for other attributes of the module.)\n",
    "2. `__init_subclass__` ensures any subclass of `Module` is registered as pytree node.\n",
    "\n",
    "Let's try our module with a simple counter:"
   ]
  },
  {
   "cell_type": "code",
   "execution_count": 8,
   "metadata": {},
   "outputs": [],
   "source": [
    "class Counter(Module):\n",
    "    def __init__(self):\n",
    "        super().__init__()\n",
    "\n",
    "        self.register_subtree(\"count\", 0)\n",
    "\n",
    "    def step(self):\n",
    "        self.count = self.count + 1\n",
    "\n",
    "    def __str__(self):\n",
    "        return f\"{self.__class__.__name__}(count={self.count})\""
   ]
  },
  {
   "cell_type": "code",
   "execution_count": 9,
   "metadata": {},
   "outputs": [
    {
     "name": "stdout",
     "output_type": "stream",
     "text": [
      "Counter(count=0)\n",
      "Counter(count=1)\n",
      "([1], PyTreeDef(CustomNode(<class '__main__.Counter'>[(['count'], [('tree_part_names', frozenset({'count'})), ('is_training', True)])], [*])))\n",
      "Counter(count=1)\n"
     ]
    }
   ],
   "source": [
    "counter = Counter()\n",
    "print(counter)\n",
    "counter.step()\n",
    "print(counter)\n",
    "leaves, treedef = jax.tree_flatten(counter)\n",
    "print((leaves, treedef))\n",
    "new_counter = jax.tree_unflatten(treedef, leaves)\n",
    "print(new_counter)"
   ]
  },
  {
   "cell_type": "markdown",
   "metadata": {},
   "source": [
    "## Parameter and State\n",
    "\n",
    "However, our module still does not have a way to distinguish trainable and non-trainable parameters.\n",
    "PAX's solution is to use a dictionary, namely `name_to_kind`, that maps attribute's name to parameter kinds, which includes: _trainable parameter_,  _non-trainable state_ and _unknown_."
   ]
  },
  {
   "cell_type": "code",
   "execution_count": 10,
   "metadata": {},
   "outputs": [],
   "source": [
    "class PaxKind(Enum):\n",
    "    PARAMETER = 1\n",
    "    STATE = 2\n",
    "    UNKNOWN = -1"
   ]
  },
  {
   "cell_type": "code",
   "execution_count": 11,
   "metadata": {},
   "outputs": [],
   "source": [
    "@jax.tree_util.register_pytree_node_class\n",
    "class Module:\n",
    "    name_to_kind: OrderedDict[str, PaxKind]\n",
    "    is_training: bool\n",
    "\n",
    "    def __init__(self):\n",
    "        self.name_to_kind = MappingProxyType(OrderedDict())\n",
    "        self.is_training = True\n",
    "\n",
    "    def tree_flatten(self):\n",
    "        children = []\n",
    "        others = []\n",
    "        children_names = []\n",
    "\n",
    "        for name, value in vars(self).items():\n",
    "            if self.name_to_kind.get(name, PaxKind.UNKNOWN) != PaxKind.UNKNOWN:\n",
    "                children.append(value)\n",
    "                children_names.append(name)\n",
    "            else:\n",
    "                others.append((name, value))\n",
    "        return children, (children_names, others)\n",
    "\n",
    "    @classmethod\n",
    "    def tree_unflatten(cls, aux_info, children):\n",
    "        children_names, others = aux_info\n",
    "        new_object = cls.__new__(cls)\n",
    "        new_object.__dict__.update(others)\n",
    "        new_object.__dict__.update(zip(children_names, children))\n",
    "        return new_object\n",
    "\n",
    "    def _update_name_to_kind_dict(self, name: str, value: PaxKind):\n",
    "        new_dict = OrderedDict(self.name_to_kind)\n",
    "        new_dict[name] = value\n",
    "        self.name_to_kind = MappingProxyType(new_dict)\n",
    "\n",
    "    def register_state(self, name, value):\n",
    "        self.__dict__[name] = value\n",
    "        self._update_name_to_kind_dict(name, PaxKind.STATE)\n",
    "\n",
    "    def register_parameter(self, name, value):\n",
    "        self.__dict__[name] = value\n",
    "        self._update_name_to_kind_dict(name, PaxKind.PARAMETER)\n",
    "\n",
    "    def __init_subclass__(cls):\n",
    "        jax.tree_util.register_pytree_node_class(cls)"
   ]
  },
  {
   "cell_type": "markdown",
   "metadata": {},
   "source": [
    "Our module now has two methods to register tree parts:\n",
    "\n",
    "1. `register_parameter` registers a trainable parameter.\n",
    "2. `register_state` registers a non-trainable state.\n",
    "\n",
    "**Note**: We are using `MappingProxyType` to create a read-only view to `name_to_kind`. The method `_update_name_to_kind_dict` creates a new dictionary every time `name_to_kind` is updated.\n",
    "\n",
    "Now, let's try it out."
   ]
  },
  {
   "cell_type": "code",
   "execution_count": 12,
   "metadata": {},
   "outputs": [],
   "source": [
    "class TrainableCounter(Module):\n",
    "    def __init__(self, delta=1.0):\n",
    "        super().__init__()\n",
    "\n",
    "        self.register_state(\"count\", 0)\n",
    "        self.register_parameter(\"delta\", delta)\n",
    "\n",
    "    def step(self):\n",
    "        self.count = self.count + self.delta\n",
    "\n",
    "    def __str__(self):\n",
    "        return f\"{self.__class__.__name__}(count={self.count}, delta={self.delta})\""
   ]
  },
  {
   "cell_type": "code",
   "execution_count": 13,
   "metadata": {},
   "outputs": [
    {
     "name": "stdout",
     "output_type": "stream",
     "text": [
      "TrainableCounter(count=0, delta=1.0)\n",
      "TrainableCounter(count=1.0, delta=1.0)\n",
      "([1.0, 1.0], PyTreeDef(CustomNode(<class '__main__.TrainableCounter'>[(['count', 'delta'], [('name_to_kind', mappingproxy(OrderedDict([('count', <PaxKind.STATE: 2>), ('delta', <PaxKind.PARAMETER: 1>)]))), ('is_training', True)])], [*, *])))\n",
      "TrainableCounter(count=1.0, delta=1.0)\n"
     ]
    }
   ],
   "source": [
    "counter = TrainableCounter(delta=1.0)\n",
    "print(counter)\n",
    "counter.step()\n",
    "print(counter)\n",
    "leaves, treedef = jax.tree_flatten(counter)\n",
    "print((leaves, treedef))\n",
    "new_counter = jax.tree_unflatten(treedef, leaves)\n",
    "print(new_counter)"
   ]
  },
  {
   "cell_type": "markdown",
   "metadata": {},
   "source": [
    "## Submodules\n",
    "\n",
    "Last but not the least, we need a way to register submodules.\n",
    "\n",
    "PAX provides the `register_module` method that registers an attribute with the new kind `PaxKind.MODULE`."
   ]
  },
  {
   "cell_type": "code",
   "execution_count": 14,
   "metadata": {},
   "outputs": [],
   "source": [
    "class PaxKind(Enum):\n",
    "    PARAMETER = 1\n",
    "    STATE = 2\n",
    "    MODULE = 3\n",
    "    UNKNOWN = -1"
   ]
  },
  {
   "cell_type": "code",
   "execution_count": 15,
   "metadata": {},
   "outputs": [],
   "source": [
    "@jax.tree_util.register_pytree_node_class\n",
    "class Module:\n",
    "    name_to_kind: OrderedDict[str, PaxKind]\n",
    "    is_training: bool\n",
    "\n",
    "    def __init__(self):\n",
    "        self.name_to_kind = MappingProxyType(OrderedDict())\n",
    "        self.is_training = True\n",
    "\n",
    "    def tree_flatten(self):\n",
    "        children = []\n",
    "        others = []\n",
    "        children_names = []\n",
    "\n",
    "        for name, value in vars(self).items():\n",
    "            if self.name_to_kind.get(name, PaxKind.UNKNOWN) != PaxKind.UNKNOWN:\n",
    "                children.append(value)\n",
    "                children_names.append(name)\n",
    "            else:\n",
    "                others.append((name, value))\n",
    "        return children, (children_names, others)\n",
    "\n",
    "    @classmethod\n",
    "    def tree_unflatten(cls, aux_info, children):\n",
    "        children_names, others = aux_info\n",
    "        new_object = cls.__new__(cls)\n",
    "        new_object.__dict__.update(others)\n",
    "        new_object.__dict__.update(zip(children_names, children))\n",
    "        return new_object\n",
    "\n",
    "    def _update_name_to_kind_dict(self, name: str, value: PaxKind):\n",
    "        new_dict = OrderedDict(self.name_to_kind)\n",
    "        new_dict[name] = value\n",
    "        self.name_to_kind = MappingProxyType(new_dict)\n",
    "\n",
    "    def register_state(self, name, value):\n",
    "        self.__dict__[name] = value\n",
    "        self._update_name_to_kind_dict(name, PaxKind.STATE)\n",
    "\n",
    "    def register_parameter(self, name, value):\n",
    "        self.__dict__[name] = value\n",
    "        self._update_name_to_kind_dict(name, PaxKind.PARAMETER)\n",
    "\n",
    "    def register_module(self, name, value):\n",
    "        self.__dict__[name] = value\n",
    "        self._update_name_to_kind_dict(name, PaxKind.MODULE)\n",
    "\n",
    "    def __setattr__(self, name: str, value: Any) -> None:\n",
    "        if isinstance(value, Module) and name not in self.name_to_kind:\n",
    "            self.register_module(name, value)\n",
    "        else:\n",
    "            return super().__setattr__(name, value)\n",
    "\n",
    "    def __init_subclass__(cls):\n",
    "        jax.tree_util.register_pytree_node_class(cls)"
   ]
  },
  {
   "cell_type": "markdown",
   "metadata": {},
   "source": [
    "For convenience, if users assign a value of instance `Module` to an attribute whose name is not in `name_to_kind`, it will be registered as `PaxKind.MODULE`, automatically."
   ]
  },
  {
   "cell_type": "markdown",
   "metadata": {},
   "source": [
    "Let's give it a try:"
   ]
  },
  {
   "cell_type": "code",
   "execution_count": 16,
   "metadata": {},
   "outputs": [],
   "source": [
    "class TrainableCounter(Module):\n",
    "    def __init__(self, delta=1.0):\n",
    "        super().__init__()\n",
    "\n",
    "        self.register_state(\"count\", 0)\n",
    "        self.register_parameter(\"delta\", delta)\n",
    "\n",
    "    def step(self):\n",
    "        self.count = self.count + self.delta\n",
    "\n",
    "    def __str__(self):\n",
    "        return f\"{self.__class__.__name__}(count={self.count}, delta={self.delta})\""
   ]
  },
  {
   "cell_type": "code",
   "execution_count": 17,
   "metadata": {},
   "outputs": [],
   "source": [
    "class TwoCounters(Module):\n",
    "    def __init__(self):\n",
    "        super().__init__()\n",
    "\n",
    "        self.counter_1 = TrainableCounter(delta=1.0)\n",
    "        self.counter_2 = TrainableCounter(delta=2.0)\n",
    "\n",
    "    def step(self):\n",
    "        self.counter_1.step()\n",
    "        self.counter_2.step()"
   ]
  },
  {
   "cell_type": "code",
   "execution_count": 18,
   "metadata": {},
   "outputs": [
    {
     "name": "stdout",
     "output_type": "stream",
     "text": [
      "OrderedDict([('counter_1', <PaxKind.MODULE: 3>), ('counter_2', <PaxKind.MODULE: 3>)])\n",
      "TrainableCounter(count=0, delta=1.0) TrainableCounter(count=0, delta=2.0)\n"
     ]
    }
   ],
   "source": [
    "two_counters = TwoCounters()\n",
    "print(two_counters.name_to_kind)\n",
    "print(two_counters.counter_1, two_counters.counter_2)"
   ]
  },
  {
   "cell_type": "code",
   "execution_count": 19,
   "metadata": {},
   "outputs": [
    {
     "name": "stdout",
     "output_type": "stream",
     "text": [
      "[0, 1.0, 0, 2.0] PyTreeDef(CustomNode(<class '__main__.TwoCounters'>[(['counter_1', 'counter_2'], [('name_to_kind', mappingproxy(OrderedDict([('counter_1', <PaxKind.MODULE: 3>), ('counter_2', <PaxKind.MODULE: 3>)]))), ('is_training', True)])], [CustomNode(<class '__main__.TrainableCounter'>[(['count', 'delta'], [('name_to_kind', mappingproxy(OrderedDict([('count', <PaxKind.STATE: 2>), ('delta', <PaxKind.PARAMETER: 1>)]))), ('is_training', True)])], [*, *]), CustomNode(<class '__main__.TrainableCounter'>[(['count', 'delta'], [('name_to_kind', mappingproxy(OrderedDict([('count', <PaxKind.STATE: 2>), ('delta', <PaxKind.PARAMETER: 1>)]))), ('is_training', True)])], [*, *])]))\n",
      "OrderedDict([('counter_1', <PaxKind.MODULE: 3>), ('counter_2', <PaxKind.MODULE: 3>)])\n",
      "TrainableCounter(count=0, delta=1.0) TrainableCounter(count=0, delta=2.0)\n"
     ]
    }
   ],
   "source": [
    "leaves, treedef = jax.tree_flatten(two_counters)\n",
    "print(leaves, treedef)\n",
    "new_mod = jax.tree_unflatten(treedef, leaves)\n",
    "print(new_mod.name_to_kind)\n",
    "print(new_mod.counter_1, new_mod.counter_2)"
   ]
  }
 ],
 "metadata": {
  "interpreter": {
   "hash": "31f2aee4e71d21fbe5cf8b01ff0e069b9275f58929596ceb00d14d90e3e16cd6"
  },
  "kernelspec": {
   "display_name": "Python 3.9.2 64-bit",
   "name": "python3"
  },
  "language_info": {
   "codemirror_mode": {
    "name": "ipython",
    "version": 3
   },
   "file_extension": ".py",
   "mimetype": "text/x-python",
   "name": "python",
   "nbconvert_exporter": "python",
   "pygments_lexer": "ipython3",
   "version": "3.8.10"
  },
  "orig_nbformat": 4
 },
 "nbformat": 4,
 "nbformat_minor": 2
}
