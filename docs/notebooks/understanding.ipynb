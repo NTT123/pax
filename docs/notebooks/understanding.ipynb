{
 "cells": [
  {
   "cell_type": "markdown",
   "metadata": {},
   "source": [
    "# Understanding PAX's module\n",
    "\n",
    "This tutorial shows how to build a PAX-like module for neural network training from scratch."
   ]
  },
  {
   "cell_type": "markdown",
   "metadata": {},
   "source": [
    "## Pytree"
   ]
  },
  {
   "cell_type": "code",
   "execution_count": 1,
   "metadata": {},
   "outputs": [],
   "source": [
    "from copy import copy\n",
    "import jax\n",
    "import numpy as np\n",
    "import jax.numpy as jnp\n",
    "from absl import logging"
   ]
  },
  {
   "cell_type": "code",
   "execution_count": 2,
   "metadata": {},
   "outputs": [],
   "source": [
    "logging.set_verbosity(logging.FATAL)"
   ]
  },
  {
   "cell_type": "markdown",
   "metadata": {},
   "source": [
    "First, let's talk about _pytree_.\n",
    "\n",
    "Pytrees are tree-like structures that are constructed from Python object containers. Here are a few examples of pytree:"
   ]
  },
  {
   "cell_type": "code",
   "execution_count": 3,
   "metadata": {},
   "outputs": [],
   "source": [
    "a = 123\n",
    "b = [1, 2, 3]\n",
    "d = (1, 2, 3)\n",
    "c = {\"1\": 1, \"2\": 2, \"3\": 3}\n",
    "e = [(1, 2), \"123\", {\"1\": 1, \"2\": [4, 5]}]"
   ]
  },
  {
   "cell_type": "markdown",
   "metadata": {},
   "source": [
    "JAX provides the `jax.tree_util.tree_flatten` function that transforms an object into its tree representation that includes:\n",
    "\n",
    "- `leaves`: a list of tree leaves.\n",
    "- `treedef`: information about the structure of the tree."
   ]
  },
  {
   "cell_type": "code",
   "execution_count": 4,
   "metadata": {},
   "outputs": [
    {
     "name": "stdout",
     "output_type": "stream",
     "text": [
      "Leaves: [1, 2, '123', 1, 4, 5]\n",
      "TreeDef: PyTreeDef([(*, *), *, {'1': *, '2': [*, *]}])\n"
     ]
    }
   ],
   "source": [
    "leaves, treedef = jax.tree_util.tree_flatten(e)\n",
    "print(\"Leaves:\", leaves)\n",
    "print(\"TreeDef:\", treedef)"
   ]
  },
  {
   "cell_type": "markdown",
   "metadata": {},
   "source": [
    ".. note:: Even though a pytree can have any object at its leaves, many jax functions such as ``jax.jit``, ``jax.lax.scan``, ``jax.grad``, etc. only support pytrees with `ndarray` leaves.\n",
    "\n",
    "We can reverse ``jax.tree_util.tree_flatten`` transformation with ``jax.tree_util.tree_unflatten``:"
   ]
  },
  {
   "cell_type": "code",
   "execution_count": 5,
   "metadata": {},
   "outputs": [
    {
     "data": {
      "text/plain": [
       "[(1, 2), '123', {'1': 1, '2': [4, 5]}]"
      ]
     },
     "execution_count": 5,
     "metadata": {},
     "output_type": "execute_result"
    }
   ],
   "source": [
    "jax.tree_util.tree_unflatten(treedef=treedef, leaves=leaves)"
   ]
  },
  {
   "cell_type": "markdown",
   "metadata": {},
   "source": [
    "## A simple PAX module\n",
    "\n",
    "Now let's try to build a simple PAX module. The core idea here is that:\n",
    "\n",
    "> **A module is also a pytree.**\n",
    "\n",
    "To let JAX knows how to flatten and unflatten a _pytree_ module:\n",
    "\n",
    "1. It needs to implement two methods: ``tree_flatten`` and ``tree_unflatten``.\n",
    "2. It is registered as a pytree node."
   ]
  },
  {
   "cell_type": "code",
   "execution_count": 6,
   "metadata": {},
   "outputs": [],
   "source": [
    "@jax.tree_util.register_pytree_node_class\n",
    "class ModuleV0:\n",
    "    def __init__(self, mylist):\n",
    "        self.mylist = mylist\n",
    "        self.is_training = True\n",
    "\n",
    "    def tree_flatten(self):\n",
    "        chilren = [self.mylist]\n",
    "        aux_info = {\"is_training\": self.is_training}\n",
    "        return chilren, aux_info\n",
    "\n",
    "    @classmethod\n",
    "    def tree_unflatten(cls, aux_info, children):\n",
    "        new_object = cls.__new__(cls)\n",
    "        new_object.mylist = children[0]\n",
    "        new_object.is_training = aux_info[\"is_training\"]\n",
    "        return new_object\n",
    "\n",
    "    def __repr__(self):\n",
    "        name = self.__class__.__name__\n",
    "        info = f\"mylist={self.mylist}, is_training={self.is_training}\"\n",
    "        return f\"{name}({info})\""
   ]
  },
  {
   "cell_type": "markdown",
   "metadata": {},
   "source": [
    "The function ``jax.tree_util.register_pytree_node_class`` registers `Module` as a class of pytree nodes.\n",
    "\n",
    "Let's try to flatten and unflatten a module."
   ]
  },
  {
   "cell_type": "code",
   "execution_count": 7,
   "metadata": {},
   "outputs": [
    {
     "name": "stdout",
     "output_type": "stream",
     "text": [
      "ModuleV0(mylist=[1, 2, 3], is_training=True)\n",
      "[1, 2, 3] PyTreeDef(CustomNode(<class '__main__.ModuleV0'>[{'is_training': True}], [[*, *, *]]))\n"
     ]
    },
    {
     "data": {
      "text/plain": [
       "ModuleV0(mylist=[1, 2, 3], is_training=True)"
      ]
     },
     "execution_count": 7,
     "metadata": {},
     "output_type": "execute_result"
    }
   ],
   "source": [
    "mod = ModuleV0([1, 2, 3])\n",
    "print(mod)\n",
    "leaves, tree_def = jax.tree_util.tree_flatten(mod)\n",
    "print(leaves, tree_def)\n",
    "new_mod = jax.tree_util.tree_unflatten(tree_def, leaves)\n",
    "new_mod"
   ]
  },
  {
   "cell_type": "markdown",
   "metadata": {},
   "source": [
    "**Note:** ``is_training`` is considered as part of the PyTreeDef."
   ]
  },
  {
   "cell_type": "markdown",
   "metadata": {},
   "source": [
    "## Introducing ``register_subtree`` method\n",
    "\n",
    "OK, but our pytree module only supports ``mylist`` and ``is_training`` attributes. A _real_ module for neural network training can have an arbitrary number of attributes.\n",
    "\n",
    "Moreover, how can our module know that ``mylist`` is part of the subtree while ``is_training`` belongs to the tree definition?\n",
    "\n",
    "One solution is:\n",
    "\n",
    "1. to keep a set (namely, ``tree_part_names``) that tells if an attribute is part of the tree or not.\n",
    "2. users need to _register_ if an attribute is part of the tree.\n",
    "3. any attribute that is not registered belongs to the tree definition."
   ]
  },
  {
   "cell_type": "code",
   "execution_count": 8,
   "metadata": {},
   "outputs": [],
   "source": [
    "@jax.tree_util.register_pytree_node_class\n",
    "class ModuleV1(ModuleV0):\n",
    "    def __init__(self):\n",
    "        self.tree_part_names = frozenset()\n",
    "        self.is_training = True\n",
    "\n",
    "    def tree_flatten(self):\n",
    "        children = []\n",
    "        others = []\n",
    "        children_names = []\n",
    "\n",
    "        for name, value in vars(self).items():\n",
    "            if name in self.tree_part_names:\n",
    "                children.append(value)\n",
    "                children_names.append(name)\n",
    "            else:\n",
    "                others.append((name, value))\n",
    "        return children, (children_names, others)\n",
    "\n",
    "    @classmethod\n",
    "    def tree_unflatten(cls, aux_info, children):\n",
    "        children_names, others = aux_info\n",
    "        new_object = cls.__new__(cls)\n",
    "        new_object.__dict__.update(others)\n",
    "        new_object.__dict__.update(zip(children_names, children))\n",
    "        return new_object\n",
    "\n",
    "    def register_subtree(self, name, value):\n",
    "        self.__dict__[name] = value\n",
    "        self.tree_part_names = self.tree_part_names.union([name])\n",
    "\n",
    "    def __init_subclass__(cls):\n",
    "        jax.tree_util.register_pytree_node_class(cls)"
   ]
  },
  {
   "cell_type": "markdown",
   "metadata": {},
   "source": [
    "Our new module has ``register_subtree`` method that adds attribute's name to the ``tree_part_names`` set. \n",
    "\n",
    "The ``tree_flatten`` method lists all attributes of the object and checks if its name is in ``tree_part_names`` or not. If it is, its value will be added to the ``children`` list, otherwise, ``(name, value)`` will be added to the ``others`` list. \n",
    "\n",
    "The ``tree_unflatten`` method combines information from ``others``, ``children_names``, and ``children`` to reconstruct the module.\n",
    "\n",
    "**Note:** \n",
    "\n",
    "1. We purposely use `frozenset` to guarantee that any modification of `tree_part_names` in one module does not affect other modules. \n",
    "(However, this is not guaranteed for other attributes of the module.)\n",
    "2. `__init_subclass__` ensures any subclass of `Module` is registered as pytree node.\n",
    "\n",
    "Let's try our module with a simple counter:"
   ]
  },
  {
   "cell_type": "code",
   "execution_count": 9,
   "metadata": {},
   "outputs": [],
   "source": [
    "class Counter(ModuleV1):\n",
    "    def __init__(self):\n",
    "        super().__init__()\n",
    "\n",
    "        self.register_subtree(\"count\", 0)\n",
    "\n",
    "    def step(self):\n",
    "        self.count = self.count + 1\n",
    "\n",
    "    def __repr__(self):\n",
    "        return f\"{self.__class__.__name__}(count={self.count})\""
   ]
  },
  {
   "cell_type": "code",
   "execution_count": 10,
   "metadata": {},
   "outputs": [
    {
     "name": "stdout",
     "output_type": "stream",
     "text": [
      "Counter(count=0)\n",
      "Counter(count=1)\n",
      "([1], PyTreeDef(CustomNode(<class '__main__.Counter'>[(['count'], [('tree_part_names', frozenset({'count'})), ('is_training', True)])], [*])))\n",
      "Counter(count=1)\n"
     ]
    }
   ],
   "source": [
    "counter = Counter()\n",
    "print(counter)\n",
    "counter.step()\n",
    "print(counter)\n",
    "leaves, treedef = jax.tree_util.tree_flatten(counter)\n",
    "print((leaves, treedef))\n",
    "new_counter = jax.tree_util.tree_unflatten(treedef, leaves)\n",
    "print(new_counter)"
   ]
  },
  {
   "cell_type": "markdown",
   "metadata": {},
   "source": [
    "## A custom `parameters` method\n",
    "\n",
    "Our module does not have a way to select trainable parameters. We need this feature for gradient computation.\n",
    "\n",
    "PAX's solution is to let the user implement a `parameters()` method themself. For example:"
   ]
  },
  {
   "cell_type": "code",
   "execution_count": 11,
   "metadata": {},
   "outputs": [],
   "source": [
    "class ModuleV2(ModuleV1):\n",
    "    def replace(self, **kwargs):\n",
    "        mod = copy(self)\n",
    "        for name, value in kwargs.items():\n",
    "            setattr(mod, name, value)\n",
    "        return mod\n",
    "\n",
    "    def parameters(self):\n",
    "        weights = {}\n",
    "        for name in self.tree_part_names:\n",
    "            value = getattr(self, name)\n",
    "            value = value.parameters() if isinstance(value, ModuleV2) else None\n",
    "            weights[name] = value\n",
    "        return self.replace(**weights)"
   ]
  },
  {
   "cell_type": "code",
   "execution_count": 12,
   "metadata": {},
   "outputs": [],
   "source": [
    "class Linear(ModuleV2):\n",
    "    def __init__(self):\n",
    "        super().__init__()\n",
    "        self.register_subtree(\"weight\", jnp.array(1.0))\n",
    "        self.register_subtree(\"bias\", jnp.array(0.0))\n",
    "        self.register_subtree(\"count\", jnp.array(0))\n",
    "\n",
    "    def parameters(self):\n",
    "        return super().parameters().replace(weight=self.weight, bias=self.bias)\n",
    "\n",
    "    def __call__(self, x):\n",
    "        self.count += 1\n",
    "        return x * self.weight + self.bias\n",
    "\n",
    "    def __repr__(self):\n",
    "        return f\"{self.__class__.__name__}(weight={self.weight}, bias={self.bias}, count={self.count})\""
   ]
  },
  {
   "cell_type": "code",
   "execution_count": 13,
   "metadata": {},
   "outputs": [
    {
     "name": "stdout",
     "output_type": "stream",
     "text": [
      "Linear(weight=1.0, bias=0.0, count=1)\n",
      "Linear(weight=1.0, bias=0.0, count=None)\n"
     ]
    }
   ],
   "source": [
    "fc = Linear()\n",
    "x = 2.0\n",
    "y = fc(x)\n",
    "print(fc)\n",
    "print(fc.parameters())"
   ]
  },
  {
   "cell_type": "markdown",
   "metadata": {},
   "source": [
    "However, it is a bit inconvenient that we have to implement a `parameters` method ourselves.\n",
    "Below is a utility function that does the job for us."
   ]
  },
  {
   "cell_type": "code",
   "execution_count": 14,
   "metadata": {},
   "outputs": [],
   "source": [
    "def parameters_method(*trainable_weights):\n",
    "    def _parameters(self):\n",
    "        values = {name: getattr(self, name) for name in trainable_weights}\n",
    "        return super(self.__class__, self).parameters().replace(**values)\n",
    "\n",
    "    return _parameters"
   ]
  },
  {
   "cell_type": "code",
   "execution_count": 15,
   "metadata": {},
   "outputs": [],
   "source": [
    "class Linear(ModuleV2):\n",
    "    def __init__(self):\n",
    "        super().__init__()\n",
    "        self.register_subtree(\"weight\", jnp.array(1.0))\n",
    "        self.register_subtree(\"bias\", jnp.array(0.0))\n",
    "        self.register_subtree(\"count\", jnp.array(0))\n",
    "\n",
    "    parameters = parameters_method(\"weight\", \"bias\")\n",
    "\n",
    "    def __call__(self, x):\n",
    "        self.counter += 1\n",
    "        return x * self.weight + self.bias\n",
    "\n",
    "    def __repr__(self):\n",
    "        return f\"{self.__class__.__name__}(weight={self.weight}, bias={self.bias}, count={self.count})\""
   ]
  },
  {
   "cell_type": "markdown",
   "metadata": {},
   "source": [
    "## Find and register subtrees"
   ]
  },
  {
   "cell_type": "markdown",
   "metadata": {},
   "source": [
    "It is inconvenient that we have to register subtrees manually, \n",
    "we can have a method that detects subtree attributes for us."
   ]
  },
  {
   "cell_type": "code",
   "execution_count": 16,
   "metadata": {},
   "outputs": [],
   "source": [
    "class ModuleV3(ModuleV2):\n",
    "    def find_and_register_subtree(self):\n",
    "        for name, value in self.__dict__.items():\n",
    "            is_pytree = lambda x: isinstance(x, (np.ndarray, jnp.ndarray, ModuleV3))\n",
    "            leaves, _ = jax.tree_util.tree_flatten(value, is_leaf=is_pytree)\n",
    "            if any(map(is_pytree, leaves)):\n",
    "                self.register_subtree(name, value)"
   ]
  },
  {
   "cell_type": "code",
   "execution_count": 17,
   "metadata": {},
   "outputs": [],
   "source": [
    "class Linear(ModuleV3):\n",
    "    def __init__(self):\n",
    "        super().__init__()\n",
    "        self.weight = jnp.array(1.0)\n",
    "        self.bias = jnp.array(0.0)\n",
    "        self.count = jnp.array(0)\n",
    "        self.find_and_register_subtree()\n",
    "\n",
    "    parameters = parameters_method(\"weight\", \"bias\")\n",
    "\n",
    "    def __call__(self, x):\n",
    "        self.counter += 1\n",
    "        return x * self.weight + self.bias\n",
    "\n",
    "    def __repr__(self):\n",
    "        return f\"{self.__class__.__name__}(weight={self.weight}, bias={self.bias}, count={self.count})\""
   ]
  },
  {
   "cell_type": "code",
   "execution_count": 18,
   "metadata": {},
   "outputs": [
    {
     "data": {
      "text/plain": [
       "frozenset({'bias', 'count', 'weight'})"
      ]
     },
     "execution_count": 18,
     "metadata": {},
     "output_type": "execute_result"
    }
   ],
   "source": [
    "fc = Linear()\n",
    "fc.tree_part_names"
   ]
  },
  {
   "cell_type": "markdown",
   "metadata": {},
   "source": [
    "## Metaclass"
   ]
  },
  {
   "cell_type": "markdown",
   "metadata": {},
   "source": [
    "We can get rid of calling `self.find_and_register_subtree()` explicitly by using metaclass."
   ]
  },
  {
   "cell_type": "code",
   "execution_count": 19,
   "metadata": {},
   "outputs": [],
   "source": [
    "class ModuleMetaclass(type):\n",
    "    def __call__(cls, *args, **kwargs):\n",
    "        module = cls.__new__(cls, *args, **kwargs)\n",
    "        cls.__init__(module, *args, **kwargs)\n",
    "        module.find_and_register_subtree()\n",
    "        return module"
   ]
  },
  {
   "cell_type": "code",
   "execution_count": 20,
   "metadata": {},
   "outputs": [],
   "source": [
    "class ModuleV4(ModuleV3, metaclass=ModuleMetaclass):\n",
    "    pass"
   ]
  },
  {
   "cell_type": "code",
   "execution_count": 21,
   "metadata": {},
   "outputs": [],
   "source": [
    "class Linear(ModuleV4):\n",
    "    def __init__(self):\n",
    "        super().__init__()\n",
    "        self.weight = jnp.array(1.0)\n",
    "        self.bias = jnp.array(0.0)\n",
    "        self.count = jnp.array(0)\n",
    "\n",
    "    parameters = parameters_method(\"weight\", \"bias\")\n",
    "\n",
    "    def __call__(self, x):\n",
    "        self.counter += 1\n",
    "        return x * self.weight + self.bias\n",
    "\n",
    "    def __repr__(self):\n",
    "        return f\"{self.__class__.__name__}(weight={self.weight}, bias={self.bias}, count={self.count})\""
   ]
  },
  {
   "cell_type": "code",
   "execution_count": 22,
   "metadata": {},
   "outputs": [
    {
     "data": {
      "text/plain": [
       "frozenset({'bias', 'count', 'weight'})"
      ]
     },
     "execution_count": 22,
     "metadata": {},
     "output_type": "execute_result"
    }
   ],
   "source": [
    "fc = Linear()\n",
    "fc.tree_part_names"
   ]
  }
 ],
 "metadata": {
  "interpreter": {
   "hash": "31f2aee4e71d21fbe5cf8b01ff0e069b9275f58929596ceb00d14d90e3e16cd6"
  },
  "kernelspec": {
   "display_name": "Python 3.9.2 64-bit",
   "name": "python3"
  },
  "language_info": {
   "codemirror_mode": {
    "name": "ipython",
    "version": 3
   },
   "file_extension": ".py",
   "mimetype": "text/x-python",
   "name": "python",
   "nbconvert_exporter": "python",
   "pygments_lexer": "ipython3",
   "version": "3.8.10"
  },
  "orig_nbformat": 4
 },
 "nbformat": 4,
 "nbformat_minor": 2
}
