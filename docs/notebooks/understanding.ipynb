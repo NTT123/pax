{
 "cells": [
  {
   "cell_type": "markdown",
   "source": [
    "# Understanding PAX\n",
    "\n",
    "This tutorial shows the inner mechanisms of PAX. You will learn that:\n",
    "\n",
    "1. A pytree is a tree structure used by JAX to store `ndarray`'s.\n",
    "2. The two most important methods of a pytree object are `tree_flatten` and `tree_unflatten`.\n",
    "3. PAX modules use the dictionary `name_to_kind` to manages the structure of the pytree."
   ],
   "metadata": {}
  },
  {
   "cell_type": "markdown",
   "source": [
    "## Pytree\n",
    "\n",
    "Pytree is a tree-like structure that is constructed from Python object containers. Here are a few examples:"
   ],
   "metadata": {}
  },
  {
   "cell_type": "code",
   "execution_count": 1,
   "source": [
    "import jax\n",
    "\n",
    "a = 123\n",
    "\n",
    "b = [1, 2, 3]\n",
    "d = (1, 2, 3)\n",
    "c = {\"1\": 1, \"2\": 2, \"3\": 3}\n",
    "\n",
    "e = [(1, 2), \"123\", {\"1\": 1, \"2\": [4, 5]}]\n",
    "\n",
    "leaves, treedef = jax.tree_flatten(e)\n",
    "print(leaves)\n",
    "print(treedef)"
   ],
   "outputs": [
    {
     "output_type": "stream",
     "name": "stdout",
     "text": [
      "[1, 2, '123', 1, 4, 5]\n",
      "PyTreeDef([(*, *), *, {'1': *, '2': [*, *]}])\n"
     ]
    }
   ],
   "metadata": {}
  },
  {
   "cell_type": "markdown",
   "source": [
    "The `jax.tree_flatten` function transforms an object into its tree representation that includes:\n",
    "\n",
    "1.  `leaves`: a list of tree leaves.\n",
    "2.  `treedef`: information about the structure of the tree. \n",
    "\n",
    "\n",
    "**Note**: Even though a pytree can have any object at its leaves, many jax functions such as ``jax.jit``, ``jax.lax.scan``, ``jax.grad``, etc. only support pytrees with `ndarray` leaves.\n",
    "\n",
    "We can reverse ``jax.tree_flatten`` transformation with ``jax.tree_unflatten``:"
   ],
   "metadata": {}
  },
  {
   "cell_type": "code",
   "execution_count": 2,
   "source": [
    "print(jax.tree_unflatten(treedef=treedef, leaves=leaves))"
   ],
   "outputs": [
    {
     "output_type": "stream",
     "name": "stdout",
     "text": [
      "[(1, 2), '123', {'1': 1, '2': [4, 5]}]\n"
     ]
    }
   ],
   "metadata": {}
  },
  {
   "cell_type": "markdown",
   "source": [
    "## A simple PAX module\n",
    "\n",
    "Now let us try to build a simple PAX module from scratch!\n",
    "\n",
    "The core idea here is that: **a module is also a pytree.**\n",
    "\n",
    "To let jax knows how to flatten and unflatten an object:\n",
    "\n",
    "1. It needs to implement two methods ``tree_flatten`` and ``tree_unflatten``.\n",
    "2. It is registered as a pytree node. The function ``jax.tree_util.register_pytree_node_class`` is what we need."
   ],
   "metadata": {}
  },
  {
   "cell_type": "code",
   "execution_count": 3,
   "source": [
    "class Module:\n",
    "    def __init__(self, mylist):\n",
    "        self.mylist = mylist\n",
    "        self.is_training = True\n",
    "\n",
    "    def tree_flatten(self):\n",
    "        chilren = [self.mylist]\n",
    "        aux_info = {\"is_training\": self.is_training}\n",
    "        return chilren, aux_info\n",
    "\n",
    "    @classmethod\n",
    "    def tree_unflatten(cls, aux_info, children):\n",
    "        new_object = cls.__new__(cls)\n",
    "        new_object.mylist = children[0]\n",
    "        new_object.is_training = aux_info[\"is_training\"]\n",
    "        return new_object\n",
    "\n",
    "    def __str__(self):\n",
    "        return (\n",
    "            self.__class__.__name__\n",
    "            + f\" :: mylist={self.mylist}  is_training={self.is_training}\"\n",
    "        )\n",
    "\n",
    "\n",
    "jax.tree_util.register_pytree_node_class(Module)"
   ],
   "outputs": [
    {
     "output_type": "execute_result",
     "data": {
      "text/plain": [
       "__main__.Module"
      ]
     },
     "metadata": {},
     "execution_count": 3
    }
   ],
   "metadata": {}
  },
  {
   "cell_type": "markdown",
   "source": [
    "Let's try to flatten and unflatten a module."
   ],
   "metadata": {}
  },
  {
   "cell_type": "code",
   "execution_count": 4,
   "source": [
    "mod = Module([1, 2, 3])\n",
    "leaves, tree_def = jax.tree_flatten(mod)\n",
    "print(leaves, tree_def)\n",
    "new_mod = jax.tree_unflatten(tree_def, leaves)\n",
    "print(new_mod)"
   ],
   "outputs": [
    {
     "output_type": "stream",
     "name": "stdout",
     "text": [
      "[1, 2, 3] PyTreeDef(CustomNode(<class '__main__.Module'>[{'is_training': True}], [[*, *, *]]))\n",
      "Module :: mylist=[1, 2, 3]  is_training=True\n"
     ]
    }
   ],
   "metadata": {}
  },
  {
   "cell_type": "markdown",
   "source": [
    "**Note:** ``is_training`` is kept as part of the PyTreeDef."
   ],
   "metadata": {}
  },
  {
   "cell_type": "markdown",
   "source": [
    "## Introducing ``register_subtree`` method\n",
    "\n",
    "OK, but our pytree ``Module`` only supports ``mylist`` and ``is_training`` attributes. A _real_ module for neural network training can have an arbitrary number of attributes.\n",
    "\n",
    "Moreover, how can our module know that ``mylist`` is part of the subtree while ``is_training`` belongs to the tree definition?\n",
    "\n",
    "One solution is:\n",
    "\n",
    "1. to keep a set (namely, ``tree_part_names``) that tells if an attribute is part of the tree or not.\n",
    "2. users need to `register` if an attribute is part of the tree.\n",
    "3. by default, any attribute that is not registered belongs to the tree definition."
   ],
   "metadata": {}
  },
  {
   "cell_type": "code",
   "execution_count": 5,
   "source": [
    "class Module:\n",
    "    def __init__(self):\n",
    "        self.tree_part_names = frozenset()\n",
    "        self.is_training = True\n",
    "\n",
    "    def tree_flatten(self):\n",
    "        children = []\n",
    "        others = []\n",
    "        children_names = []\n",
    "\n",
    "        for name, value in vars(self).items():\n",
    "            if name in self.tree_part_names:\n",
    "                children.append(value)\n",
    "                children_names.append(name)\n",
    "            else:\n",
    "                others.append((name, value))\n",
    "        return children, (children_names, others)\n",
    "\n",
    "    @classmethod\n",
    "    def tree_unflatten(cls, aux_info, children):\n",
    "        children_names, others = aux_info\n",
    "        new_object = cls.__new__(cls)\n",
    "        new_object.__dict__.update(others)\n",
    "        new_object.__dict__.update(zip(children_names, children))\n",
    "        return new_object\n",
    "\n",
    "    def register_subtree(self, name, value):\n",
    "        self.__dict__[name] = value\n",
    "        self.tree_part_names = self.tree_part_names.union([name])\n",
    "\n",
    "    def __init_subclass__(cls):\n",
    "        jax.tree_util.register_pytree_node_class(cls)"
   ],
   "outputs": [],
   "metadata": {}
  },
  {
   "cell_type": "markdown",
   "source": [
    "Our new module has ``register_subtree`` method that will add attribute name to the ``tree_part_names`` set. \n",
    "\n",
    "The ``tree_flatten`` method will list all attributes of the object and check if its name is in ``tree_part_names`` or not. If it is, its value will be added to the ``children`` list, otherwise, ``(name, value)`` will be added to the ``others`` list. \n",
    "\n",
    "The ``tree_unflatten`` method combines information from ``others``, ``children_names``, and ``children`` to reconstruct the object.\n",
    "\n",
    "**Note:** \n",
    "\n",
    "1. We purposely use `frozenset` to guarantee that any modification of `tree_part_names` in one object does not affect other objects. \n",
    "However, this is not guaranteed for other attributes of the module.\n",
    "2. `__init_subclass__` ensures any subclass of `Module` is also registered as pytree.\n",
    "\n",
    "Let's try our module:"
   ],
   "metadata": {}
  },
  {
   "cell_type": "code",
   "execution_count": 6,
   "source": [
    "class Counter(Module):\n",
    "    def __init__(self):\n",
    "        super().__init__()\n",
    "\n",
    "        self.register_subtree(\"count\", 0)\n",
    "\n",
    "    def step(self):\n",
    "        self.count = self.count + 1\n",
    "\n",
    "    def __str__(self):\n",
    "        return self.__class__.__name__ + f\" :: count={self.count}\"\n",
    "\n",
    "\n",
    "counter = Counter()\n",
    "counter.step()\n",
    "print(counter)\n",
    "\n",
    "leaves, treedef = jax.tree_flatten(counter)\n",
    "print((leaves, treedef))\n",
    "\n",
    "new_counter = jax.tree_unflatten(treedef, leaves)\n",
    "print(new_counter)"
   ],
   "outputs": [
    {
     "output_type": "stream",
     "name": "stdout",
     "text": [
      "Counter :: count=1\n",
      "([1], PyTreeDef(CustomNode(<class '__main__.Counter'>[(['count'], [('tree_part_names', frozenset({'count'})), ('is_training', True)])], [*])))\n",
      "Counter :: count=1\n"
     ]
    }
   ],
   "metadata": {}
  },
  {
   "cell_type": "markdown",
   "source": [
    "## Parameter and State\n",
    "\n",
    "However, our module still does not have a way to distinguish trainable and non-trainable parameters. PAX's solution is to use a dictionary instead of a set. \n",
    "This dictionary, namely `name_to_kind`, maps attribute's name to parameter kinds which can be `trainable parameter`,  `non-trainable state` or `others`."
   ],
   "metadata": {}
  },
  {
   "cell_type": "code",
   "execution_count": 7,
   "source": [
    "from types import MappingProxyType\n",
    "from typing import OrderedDict\n",
    "from enum import Enum\n",
    "\n",
    "\n",
    "class PaxKind(Enum):\n",
    "    STATE = 1\n",
    "    PARAMETER = 2\n",
    "    OTHERS = -1\n",
    "\n",
    "\n",
    "class Module:\n",
    "    name_to_kind: OrderedDict[str, PaxKind]\n",
    "    is_training: bool\n",
    "\n",
    "    def __init__(self):\n",
    "        self.name_to_kind = MappingProxyType(OrderedDict())\n",
    "        self.is_training = True\n",
    "\n",
    "    def tree_flatten(self):\n",
    "        children = []\n",
    "        others = []\n",
    "        children_names = []\n",
    "\n",
    "        for name, value in vars(self).items():\n",
    "            if self.name_to_kind.get(name, PaxKind.OTHERS) != PaxKind.OTHERS:\n",
    "                children.append(value)\n",
    "                children_names.append(name)\n",
    "            else:\n",
    "                others.append((name, value))\n",
    "        return children, (children_names, others)\n",
    "\n",
    "    @classmethod\n",
    "    def tree_unflatten(cls, aux_info, children):\n",
    "        children_names, others = aux_info\n",
    "        new_object = cls.__new__(cls)\n",
    "        new_object.__dict__.update(others)\n",
    "        new_object.__dict__.update(zip(children_names, children))\n",
    "        return new_object\n",
    "\n",
    "    def _update_name_to_kind_dict(self, name: str, value: PaxKind):\n",
    "        new_dict = OrderedDict(self.name_to_kind)\n",
    "        new_dict[name] = value\n",
    "        self.name_to_kind = MappingProxyType(new_dict)\n",
    "\n",
    "    def register_state(self, name, value):\n",
    "        self.__dict__[name] = value\n",
    "        self._update_name_to_kind_dict(name, PaxKind.STATE)\n",
    "\n",
    "    def register_parameter(self, name, value):\n",
    "        self.__dict__[name] = value\n",
    "        self._update_name_to_kind_dict(name, PaxKind.PARAMETER)\n",
    "\n",
    "    def __init_subclass__(cls):\n",
    "        jax.tree_util.register_pytree_node_class(cls)\n",
    "\n",
    "\n",
    "jax.tree_util.register_pytree_node_class(Module)"
   ],
   "outputs": [
    {
     "output_type": "execute_result",
     "data": {
      "text/plain": [
       "__main__.Module"
      ]
     },
     "metadata": {},
     "execution_count": 7
    }
   ],
   "metadata": {}
  },
  {
   "cell_type": "markdown",
   "source": [
    "Our module now has two methods to register tree parts:\n",
    "\n",
    "1. `register_parameter` registers a trainable parameter.\n",
    "2. `register_state` registers a non-trainable state.\n",
    "\n",
    "**Note**: We are using `MappingProxyType` to create a read-only view to `name_to_kind`. The method `_update_name_to_kind_dict` creates a new dictionary every time `name_to_kind` is updated.\n",
    "\n",
    "Now, let's try it out."
   ],
   "metadata": {}
  },
  {
   "cell_type": "code",
   "execution_count": 8,
   "source": [
    "class Counter(Module):\n",
    "    def __init__(self):\n",
    "        super().__init__()\n",
    "\n",
    "        self.register_state(\"count\", 0)\n",
    "        self.register_parameter(\"bias\", 0.0)\n",
    "\n",
    "    def step(self):\n",
    "        self.count = self.count + 1\n",
    "\n",
    "    def __str__(self):\n",
    "        return self.__class__.__name__ + f\" :: count={self.count}  bias={self.bias}\"\n",
    "\n",
    "\n",
    "counter = Counter()\n",
    "counter.step()\n",
    "print(counter)\n",
    "\n",
    "leaves, treedef = jax.tree_flatten(counter)\n",
    "print((leaves, treedef))\n",
    "\n",
    "new_counter = jax.tree_unflatten(treedef, leaves)\n",
    "print(new_counter)"
   ],
   "outputs": [
    {
     "output_type": "stream",
     "name": "stdout",
     "text": [
      "Counter :: count=1  bias=0.0\n",
      "([1, 0.0], PyTreeDef(CustomNode(<class '__main__.Counter'>[(['count', 'bias'], [('name_to_kind', mappingproxy(OrderedDict([('count', <PaxKind.STATE: 1>), ('bias', <PaxKind.PARAMETER: 2>)]))), ('is_training', True)])], [*, *])))\n",
      "Counter :: count=1  bias=0.0\n"
     ]
    }
   ],
   "metadata": {}
  },
  {
   "cell_type": "markdown",
   "source": [
    "## Sub-module\n",
    "\n",
    "Last but not the least, we need a way to know and detect if an attribute is a sub-module of the current module.\n",
    "PAX provides two ways to achieve that:\n",
    "\n",
    "1. To register: the `register_module` method will register an attribute with a new kind `PaxKind.MODULE`.\n",
    "2. To detect: If a user assigns a value of instance `Module` to an attribute whose name is not in `name_to_kind`, it will automatically be registered as `PaxKind.MODULE`."
   ],
   "metadata": {}
  },
  {
   "cell_type": "code",
   "execution_count": 9,
   "source": [
    "from typing import Any\n",
    "\n",
    "\n",
    "class PaxKind(Enum):\n",
    "    STATE = 1\n",
    "    PARAMETER = 2\n",
    "    MODULE = 3\n",
    "    OTHERS = -1\n",
    "\n",
    "\n",
    "class ModuleV2(Module):\n",
    "    def register_module(self, name, value):\n",
    "        self.__dict__[name] = value\n",
    "        self.name_to_kind[name] = PaxKind.MODULE\n",
    "\n",
    "    def __setattr__(self, name: str, value: Any) -> None:\n",
    "        if isinstance(value, ModuleV2) and name not in self.name_to_kind:\n",
    "            self._updatename_to_kind_dict(name, PaxKind.MODULE)\n",
    "        return super().__setattr__(name, value)"
   ],
   "outputs": [],
   "metadata": {}
  }
 ],
 "metadata": {
  "orig_nbformat": 4,
  "language_info": {
   "name": "python",
   "version": "3.8.5",
   "mimetype": "text/x-python",
   "codemirror_mode": {
    "name": "ipython",
    "version": 3
   },
   "pygments_lexer": "ipython3",
   "nbconvert_exporter": "python",
   "file_extension": ".py"
  },
  "kernelspec": {
   "name": "python3",
   "display_name": "Python 3.8.5 64-bit"
  },
  "interpreter": {
   "hash": "31f2aee4e71d21fbe5cf8b01ff0e069b9275f58929596ceb00d14d90e3e16cd6"
  }
 },
 "nbformat": 4,
 "nbformat_minor": 2
}