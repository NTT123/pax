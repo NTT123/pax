{
 "cells": [
  {
   "cell_type": "markdown",
   "source": [
    "# Side effects\n",
    "\n",
    "In this tutorial, we show how to control side effects when programming with PAX. You will learn:\n",
    "\n",
    "1. Side effects can happen to PAX's Modules.\n",
    "2. Side effects stop with JAX's transformations.\n",
    "3. We can emulate side effects by returning the inputs."
   ],
   "metadata": {}
  },
  {
   "cell_type": "markdown",
   "source": [
    "## PAX modules can have side effects\n",
    "\n",
    "A PAX's module is a stateful Pytree. It can store or modify its internal states like a normal Python object.\n",
    "\n",
    "We have here a simple pax module that has an internal counter to count the number of times `__call__` is executed."
   ],
   "metadata": {}
  },
  {
   "cell_type": "code",
   "execution_count": 1,
   "source": [
    "import pax\n",
    "\n",
    "\n",
    "class M(pax.Module):\n",
    "    def __init__(self):\n",
    "        super().__init__()\n",
    "        self.counter = 0\n",
    "\n",
    "    def __call__(self, x):\n",
    "        self.counter += 1\n",
    "        return x\n",
    "\n",
    "\n",
    "m = M()\n",
    "m(0)\n",
    "print(m.counter)  # 1\n",
    "m(0)\n",
    "print(m.counter)  # 2"
   ],
   "outputs": [
    {
     "output_type": "stream",
     "name": "stdout",
     "text": [
      "1\n",
      "2\n"
     ]
    }
   ],
   "metadata": {}
  },
  {
   "cell_type": "markdown",
   "source": [
    "Everything works as expected because `m` is just a normal Python object."
   ],
   "metadata": {}
  },
  {
   "cell_type": "markdown",
   "source": [
    "## The great purifier (a.k.a JAX's tracer)\n",
    "\n",
    "Things get complicated when we use JAX's transformations. \n",
    "\n",
    "First, JAX's transformations are very useful. \n",
    "For example, `jax.grad` transforms a function to its gradient function. \n",
    "`jax.jit` compiles a python function to machine code that can be executed on CPU, GPU or TPU. \n",
    "These transformations are essential for machine learning applications.\n",
    "\n",
    "However, these transformations also require input functions to have no side effects.\n",
    "If an input function has side effects, these side effects will be automatically erased as a \"side effect\" of the transformation.\n",
    "\n",
    "Let's see how it happens by trying to compile a simple function with `jax.jit`."
   ],
   "metadata": {}
  },
  {
   "cell_type": "code",
   "execution_count": 2,
   "source": [
    "import jax\n",
    "\n",
    "\n",
    "@jax.jit\n",
    "def forward(m: M):\n",
    "    m(0)\n",
    "    print(f\"ID = {id(m)} Counter (inside) = {m.counter}\")\n",
    "\n",
    "\n",
    "print(f\"ID = {id(m)} Counter (before) = {m.counter}\")\n",
    "forward(m)\n",
    "print(f\"ID = {id(m)} Counter (after)  = {m.counter}\")"
   ],
   "outputs": [
    {
     "output_type": "stream",
     "name": "stderr",
     "text": [
      "WARNING:absl:No GPU/TPU found, falling back to CPU. (Set TF_CPP_MIN_LOG_LEVEL=0 and rerun for more info.)\n"
     ]
    },
    {
     "output_type": "stream",
     "name": "stdout",
     "text": [
      "ID = 140424167503328 Counter (before) = 2\n",
      "ID = 140422720409760 Counter (inside) = 3\n",
      "ID = 140424167503328 Counter (after)  = 2\n"
     ]
    }
   ],
   "metadata": {}
  },
  {
   "cell_type": "markdown",
   "source": [
    "What is happening here? `m.counter` increased to `3` inside `forward` function, then, decreased to `2` again?\n",
    "\n",
    "Looking closely at the `ID` column, we realize that `m.counter` is increased for a different object, not our original `m`. \n",
    "\n",
    "To explain this behavior, we have to know how `jax.jit` compiles a function. Roughly, it traces the function by feeding the function with fake inputs what helps to record all the operations on the inputs and the returned outputs. The result of this tracing process is a JAX expression (jaxpr), basically, a JAX's representation of our python function. Finally, JAX compiles the expression to machine code using the XLA compiler.\n",
    "\n",
    "Let's print out the jaxpr of our `forward` function"
   ],
   "metadata": {}
  },
  {
   "cell_type": "code",
   "execution_count": 3,
   "source": [
    "def print_xpr(xpr):\n",
    "    print(f\"JAX xpr:\\n===\\n{xpr}\\n===\")\n",
    "\n",
    "\n",
    "xpr = jax.make_jaxpr(forward)(m)\n",
    "print_xpr(xpr)"
   ],
   "outputs": [
    {
     "output_type": "stream",
     "name": "stdout",
     "text": [
      "ID = 140422686347328 Counter (inside) = 3\n",
      "JAX xpr:\n",
      "===\n",
      "{ lambda  ; .\n",
      "  let  = xla_call[ backend=None\n",
      "                   call_jaxpr={ lambda  ; .\n",
      "                                let \n",
      "                                in () }\n",
      "                   device=None\n",
      "                   donated_invars=(  )\n",
      "                   inline=False\n",
      "                   name=forward ] \n",
      "  in () }\n",
      "===\n"
     ]
    }
   ],
   "metadata": {}
  },
  {
   "cell_type": "markdown",
   "source": [
    "Firstly, it printed out (a different) ID and Counter during the tracing process. Secondly, there is no `counter += 1` in the returned JAX expression.\n",
    "\n",
    "Indeed, `m.counter` is not considered as part of the JAX expression. Because it is not a `ndarray` leaf of the `m` Pytree.\n",
    "We need to convert `counter` to a `ndarray` value and register it as a state of the Pytree using the `self.register_state` method."
   ],
   "metadata": {}
  },
  {
   "cell_type": "code",
   "execution_count": 4,
   "source": [
    "import jax.numpy as jnp\n",
    "\n",
    "\n",
    "class M1(pax.Module):\n",
    "    counter: jnp.ndarray\n",
    "\n",
    "    def __init__(self):\n",
    "        super().__init__()\n",
    "        self.register_state(\"counter\", jnp.array(0))\n",
    "\n",
    "    def __call__(self, x):\n",
    "        self.counter += 1\n",
    "        return x\n",
    "\n",
    "\n",
    "m1 = M1()\n",
    "\n",
    "\n",
    "@jax.jit\n",
    "def forward_1(m: M1):\n",
    "    m(0)\n",
    "    print(f\"ID = {id(m)} Counter (inside) = {m.counter}\")\n",
    "\n",
    "\n",
    "xpr = jax.make_jaxpr(forward_1)(m1)\n",
    "print_xpr(xpr)"
   ],
   "outputs": [
    {
     "output_type": "stream",
     "name": "stdout",
     "text": [
      "ID = 140422686437728 Counter (inside) = Traced<ShapedArray(int32[])>with<DynamicJaxprTrace(level=1/1)>\n",
      "JAX xpr:\n",
      "===\n",
      "{ lambda  ; a.\n",
      "  let  = xla_call[ backend=None\n",
      "                   call_jaxpr={ lambda  ; a.\n",
      "                                let _ = add a 1\n",
      "                                in () }\n",
      "                   device=None\n",
      "                   donated_invars=(False,)\n",
      "                   inline=False\n",
      "                   name=forward_1 ] a\n",
      "  in () }\n",
      "===\n"
     ]
    }
   ],
   "metadata": {}
  },
  {
   "cell_type": "markdown",
   "source": [
    "Now, we can see that during the tracing process, `m.counter` is replaced by a fake input \"Traced Array\".\n",
    "We also see `_ = add a 1` in the returned jax expression as `self.counter += 1` is traced.\n",
    "\n",
    "Let's run our new `forward_1` function."
   ],
   "metadata": {}
  },
  {
   "cell_type": "code",
   "execution_count": 5,
   "source": [
    "print(f\"ID = {id(m1)} Counter (before) = {m1.counter}\")\n",
    "forward_1(m1)\n",
    "print(f\"ID = {id(m1)} Counter (after)  = {m1.counter}\")"
   ],
   "outputs": [
    {
     "output_type": "stream",
     "name": "stdout",
     "text": [
      "ID = 140422686349344 Counter (before) = 0\n",
      "ID = 140422686347856 Counter (inside) = Traced<ShapedArray(int32[], weak_type=True)>with<DynamicJaxprTrace(level=0/1)>\n",
      "ID = 140422686349344 Counter (after)  = 0\n"
     ]
    }
   ],
   "metadata": {}
  },
  {
   "cell_type": "markdown",
   "source": [
    "Our `m1.counter` is still not increased after `forward_1` is executed. This is because JAX expressions have no side effects.\n",
    "`self.counter` before and after `self.counter += 1` are two different variables. We can spot this in the `_ = add a 1` expression, the result is assigned to `_` not `a`.\n",
    "\n",
    "This is a core concept of JAX. Its expressions are pure mathematical functions.\n",
    "\n",
    "Note that: a pure function `f` is considered as a **major** advantage. We now can do `jax.grad(f)` because `f` is a mathematical function. We can run many instances of `f` in parallel with `jax.vmap` and on multiple cores with `jax.pmap` because `f` has no side effects. In short, pure functions are beautiful!"
   ],
   "metadata": {}
  },
  {
   "cell_type": "markdown",
   "source": [
    "## Side effect strikes back"
   ],
   "metadata": {}
  },
  {
   "cell_type": "markdown",
   "source": [
    "However, we still want to update `counter` though! \n",
    "\n",
    "The solution is simple. We just need to return the updated `m` as an output of our `forward` function."
   ],
   "metadata": {}
  },
  {
   "cell_type": "code",
   "execution_count": 6,
   "source": [
    "@jax.jit\n",
    "def forward_2(m: M1):\n",
    "    m(0)\n",
    "    print(f\"ID = {id(m)} Counter (inside) = {m.counter}\")\n",
    "    return m\n",
    "\n",
    "\n",
    "xpr = jax.make_jaxpr(forward_2)(m1)\n",
    "print_xpr(xpr)"
   ],
   "outputs": [
    {
     "output_type": "stream",
     "name": "stdout",
     "text": [
      "ID = 140422686439024 Counter (inside) = Traced<ShapedArray(int32[])>with<DynamicJaxprTrace(level=1/1)>\n",
      "JAX xpr:\n",
      "===\n",
      "{ lambda  ; a.\n",
      "  let b = xla_call[ backend=None\n",
      "                    call_jaxpr={ lambda  ; a.\n",
      "                                 let b = add a 1\n",
      "                                 in (b,) }\n",
      "                    device=None\n",
      "                    donated_invars=(False,)\n",
      "                    inline=False\n",
      "                    name=forward_2 ] a\n",
      "  in (b,) }\n",
      "===\n"
     ]
    }
   ],
   "metadata": {}
  },
  {
   "cell_type": "markdown",
   "source": [
    "As we can see in the traced expression, the updated counter `b` (`b = a + 1`) is now included in the output."
   ],
   "metadata": {}
  },
  {
   "cell_type": "code",
   "execution_count": 7,
   "source": [
    "print(f\"ID = {id(m1)} Counter (before) = {m1.counter}\")\n",
    "m1 = forward_2(m1)\n",
    "print(f\"ID = {id(m1)} Counter (after)  = {m1.counter}\")"
   ],
   "outputs": [
    {
     "output_type": "stream",
     "name": "stdout",
     "text": [
      "ID = 140422686349344 Counter (before) = 0\n",
      "ID = 140422686439312 Counter (inside) = Traced<ShapedArray(int32[], weak_type=True)>with<DynamicJaxprTrace(level=0/1)>\n",
      "ID = 140424176335504 Counter (after)  = 1\n"
     ]
    }
   ],
   "metadata": {}
  },
  {
   "cell_type": "markdown",
   "source": [
    "Note that the id of `m1` after `forward_2` is different from the id of `m1` we started with because it is a new python object."
   ],
   "metadata": {}
  },
  {
   "cell_type": "markdown",
   "source": [
    "## Summary"
   ],
   "metadata": {}
  },
  {
   "cell_type": "markdown",
   "source": [
    "- We can say that PAX modules work as normal python objects both inside and outside of a JAX's transformation,\n",
    "- the *PROBLEM* is that they are not the same object.\n",
    "- When a pax module is passed to a transformed function, JAX will create a copy of this module and pass the copy to the function.\n",
    "- As a result, any modification on the clone will not affect the original module.\n",
    "- We need to return the modified clone to emulate side effects."
   ],
   "metadata": {}
  }
 ],
 "metadata": {
  "orig_nbformat": 4,
  "language_info": {
   "name": "python",
   "version": "3.8.5",
   "mimetype": "text/x-python",
   "codemirror_mode": {
    "name": "ipython",
    "version": 3
   },
   "pygments_lexer": "ipython3",
   "nbconvert_exporter": "python",
   "file_extension": ".py"
  },
  "kernelspec": {
   "name": "python3",
   "display_name": "Python 3.8.5 64-bit"
  },
  "interpreter": {
   "hash": "916dbcbb3f70747c44a77c7bcd40155683ae19c65e1c03b4aa3499c5328201f1"
  }
 },
 "nbformat": 4,
 "nbformat_minor": 2
}