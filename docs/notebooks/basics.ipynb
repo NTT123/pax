{
 "cells": [
  {
   "cell_type": "markdown",
   "source": [
    "# Getting started\n",
    "\n",
    "This tutorial helps you to learn the basic concepts and practices of Pax.\n",
    "\n",
    "In this tutorial, you will learn:\n",
    "\n",
    "1. Pax uses a global variable to store a global random key.\n",
    "2. How to register trainable parameters and non-trainable states.\n",
    "3. A loss function should have a separate argument for trainable parameters.\n",
    "4. A loss function should return the updated model to make the updates available to the outside world.\n",
    "5. A loss function should have no side effects.\n",
    "6. `pax.grad`, the Pax's edition of `jax.grad`, transforms a loss function to its gradient function.\n",
    "\n",
    "\n",
    "Let's start our journey by importing `jax` and `pax`."
   ],
   "metadata": {}
  },
  {
   "cell_type": "code",
   "execution_count": 1,
   "source": [
    "# uncomment the following line to install pax\n",
    "# !pip install -q git+https://github.com/NTT123/pax.git"
   ],
   "outputs": [],
   "metadata": {}
  },
  {
   "cell_type": "code",
   "execution_count": 2,
   "source": [
    "import jax\n",
    "import jax.numpy as jnp\n",
    "import pax"
   ],
   "outputs": [],
   "metadata": {}
  },
  {
   "cell_type": "markdown",
   "source": [
    "To demonstrate the basics of ``pax.Module``, we will define a simple ``Linear`` module with an _additional_ `forward pass` counter."
   ],
   "metadata": {}
  },
  {
   "cell_type": "code",
   "execution_count": 3,
   "source": [
    "class Linear(pax.Module):\n",
    "    \"\"\"A Linear module has two real parameters ``weight`` and ``bias``.\"\"\"\n",
    "\n",
    "    weight: jnp.ndarray\n",
    "    bias: jnp.ndarray\n",
    "    counter: jnp.ndarray #  used to count number of forward pass (__call__ executions)\n",
    "\n",
    "    def __init__(self):\n",
    "        super().__init__()\n",
    "\n",
    "        self.register_parameters(\"weight\", jnp.array(1.0))\n",
    "        self.register_parameters(\"bias\", jnp.array(0.0))\n",
    "        self.register_states(\"counter\", jnp.array(0))\n",
    "    \n",
    "    def __call__(self, x: jnp.ndarray) -> jnp.ndarray:\n",
    "        self.counter = self.counter + 1\n",
    "        return self.weight * x + self.bias\n",
    "        \n",
    "    def __str__(self):\n",
    "        return f\"weight={self.weight} bias={self.bias} counter={self.counter}\"\n",
    "\n",
    "net = Linear()\n",
    "print(net)"
   ],
   "outputs": [
    {
     "output_type": "stream",
     "name": "stderr",
     "text": [
      "WARNING:absl:No GPU/TPU found, falling back to CPU. (Set TF_CPP_MIN_LOG_LEVEL=0 and rerun for more info.)\n"
     ]
    },
    {
     "output_type": "stream",
     "name": "stdout",
     "text": [
      "weight=1.0 bias=0.0 counter=0\n"
     ]
    }
   ],
   "metadata": {}
  },
  {
   "cell_type": "markdown",
   "source": [
    "**Note**: \n",
    "\n",
    "1. `self.register_parameters(...)` registers `weight` and `bias` as _trainable parameters_. \n",
    "2. `self.register_states(...)` registers `counter` as a _non-trainable_ state.\n",
    "\n",
    "Next, we will create a toy dataset and fit ``net`` with that dataset."
   ],
   "metadata": {}
  },
  {
   "cell_type": "code",
   "execution_count": 4,
   "source": [
    "import matplotlib.pyplot as plt\n",
    "plt.rcParams[\"figure.figsize\"] = (3,2)\n",
    "\n",
    "\n",
    "pax.seed_rng_key(42) # seeding pax random key\n",
    "\n",
    "def create_data(a=-3.0, b=1.5):\n",
    "    x = jax.random.uniform(pax.next_rng_key(), (128, 1))\n",
    "    noise = jax.random.normal(pax.next_rng_key(), x.shape) * 0.2\n",
    "    y = a * x + b + noise\n",
    "    plt.scatter(x, y)\n",
    "    plt.grid('on')\n",
    "    plt.legend([\"data\"])\n",
    "    plt.show()\n",
    "    return x, y\n",
    "\n",
    "x, y = create_data()"
   ],
   "outputs": [
    {
     "output_type": "display_data",
     "data": {
      "image/png": "[encoded data removed]",
      "text/plain": [
       "<Figure size 216x144 with 1 Axes>"
      ]
     },
     "metadata": {
      "needs_background": "light"
     }
    }
   ],
   "metadata": {}
  },
  {
   "cell_type": "markdown",
   "source": [
    "Pax keeps a global random key at `pax.rng.state._rng_key`. We use ``pax.seed_rng_key(42)`` to seed that global random key.\n",
    "\n",
    "The function `pax.next_rng_key()` will return a new `rng_key` and also renew the global random key"
   ],
   "metadata": {}
  },
  {
   "cell_type": "markdown",
   "source": [
    "Now, plot the initial _predictions_ of our `Linear` model."
   ],
   "metadata": {}
  },
  {
   "cell_type": "code",
   "execution_count": 5,
   "source": [
    "def plot_prediction(net, data):\n",
    "    x, y= data\n",
    "    y_hat = net(x) \n",
    "\n",
    "    plt.scatter(x, y)\n",
    "    plt.scatter(x, y_hat)\n",
    "    plt.legend(['data', 'prediction'])\n",
    "    plt.xlabel('x')\n",
    "    plt.ylabel('y')\n",
    "    plt.grid('on')\n",
    "    plt.show()\n",
    "\n",
    "plot_prediction(net, (x, y))\n",
    "print(net)"
   ],
   "outputs": [
    {
     "output_type": "display_data",
     "data": {
      "image/png": "[encoded data removed]",
      "text/plain": [
       "<Figure size 216x144 with 1 Axes>"
      ]
     },
     "metadata": {
      "needs_background": "light"
     }
    },
    {
     "output_type": "stream",
     "name": "stdout",
     "text": [
      "weight=1.0 bias=0.0 counter=1\n"
     ]
    }
   ],
   "metadata": {}
  },
  {
   "cell_type": "markdown",
   "source": [
    "`counter = 1` confirms that our counter is working correctly."
   ],
   "metadata": {}
  },
  {
   "cell_type": "markdown",
   "source": [
    "To fit ``net`` with the toy data, we will define a _mean squared error_ loss function which measures the prediction errors.\n",
    "\n",
    "We need the gradient function of our loss to fit the model. \n",
    "\n",
    "`pax.grad` does exactly that. It transforms a function into the corresponding gradient function."
   ],
   "metadata": {}
  },
  {
   "cell_type": "code",
   "execution_count": 6,
   "source": [
    "from typing import Tuple\n",
    "Batch = Tuple[jnp.ndarray, jnp.ndarray]\n",
    "\n",
    "def mse_loss(model: Linear, inputs: Batch):\n",
    "    x, y = inputs\n",
    "    y_hat = model(x)\n",
    "\n",
    "    # mse\n",
    "    loss = jnp.mean(jnp.square(y - y_hat))\n",
    "    return loss, (loss, model)\n",
    "\n",
    "gradient_fn = pax.grad(mse_loss, has_aux=True, allow_int=True)\n",
    "\n",
    "grad, (loss, net) = gradient_fn(net, (x, y))\n",
    "print(grad.weight, grad.bias, grad.counter, loss)\n",
    "print(net)"
   ],
   "outputs": [
    {
     "output_type": "stream",
     "name": "stdout",
     "text": [
      "1.1689018 0.9074197 (b'',) 1.7135277\n",
      "weight=1.0 bias=0.0 counter=2\n"
     ]
    }
   ],
   "metadata": {}
  },
  {
   "cell_type": "markdown",
   "source": [
    "There are several useful practices from the ``mse_loss`` function:\n",
    "\n",
    "1. ``mse_loss`` returns ``(loss, model)`` as an auxiliary output.\n",
    "2. ``has_aux=True`` informs ``pax.grad`` to return a function whose output includes ``(loss, model)``. We return `loss` for logging purposes. We return `model` because we want to pass the updated `counter` to the outside world.\n",
    "3. ``allow_int=True`` allows us to compute the gradients with respect to ``model`` which contains a integer `ndarray` leaf ``counter``.\n",
    "\n",
    "**Note**: \n",
    "\n",
    "1. It is very important to keep our loss function pure (no side effects).\n",
    "2. `counter=2` confirms that another forward pass is executed.\n",
    "3. `pax.grad` is the same as `jax.grad` with pax's immutability checking turned on.\n",
    "4. **(Important)** `pax.grad` computes gradients w.r.t all `ndarray` leaves in the pytree including non-trainable states (e.g. `counter`).\n",
    "4. The gradient of `counter` is `void (b'',)` because `counter` is an integer `ndarray`. "
   ],
   "metadata": {}
  },
  {
   "cell_type": "markdown",
   "source": [
    "Now, implement a simple stochastic gradient descent (SGD) algorithm and train ``net`` for `500` steps."
   ],
   "metadata": {}
  },
  {
   "cell_type": "code",
   "execution_count": 7,
   "source": [
    "def sgd(params: Linear, gradient: Linear, lr: float = 1e-1):\n",
    "    updated_params = jax.tree_map(lambda p, g: p - lr * g, params, gradient)\n",
    "    return updated_params\n",
    "\n",
    "\n",
    "losses = []\n",
    "for step in range(500):\n",
    "    grads, (loss, net) = gradient_fn(net, (x, y))\n",
    "\n",
    "    params = sgd(net.parameters(), grads.parameters())\n",
    "    net = net.update_parameters(params)\n",
    "    losses.append(loss)\n",
    "\n",
    "\n",
    "plt.plot(losses)\n",
    "plt.xlabel('step')\n",
    "plt.ylabel('loss')\n",
    "plt.show()\n",
    "print(net)"
   ],
   "outputs": [
    {
     "output_type": "display_data",
     "data": {
      "image/png": "[encoded data removed]",
      "text/plain": [
       "<Figure size 216x144 with 1 Axes>"
      ]
     },
     "metadata": {
      "needs_background": "light"
     }
    },
    {
     "output_type": "stream",
     "name": "stdout",
     "text": [
      "weight=-3.0226664543151855 bias=1.4959371089935303 counter=502\n"
     ]
    }
   ],
   "metadata": {}
  },
  {
   "cell_type": "markdown",
   "source": [
    "**Note**:\n",
    "\n",
    "1. `sgd(net.parameters(), grads.parameters())` ensures that we only update trainable parameters of `net`.\n",
    "2. The estimated weight = `-3.02` and bias = `1.49` are very close to the ground truths. \n",
    "3. Counter=`502` correctly counts the number of forward passes.\n",
    "\n",
    "Finally, let's plot the prediction of our trained model."
   ],
   "metadata": {}
  },
  {
   "cell_type": "code",
   "execution_count": 8,
   "source": [
    "plot_prediction(net, (x, y))"
   ],
   "outputs": [
    {
     "output_type": "display_data",
     "data": {
      "image/png": "[encoded data removed]",
      "text/plain": [
       "<Figure size 216x144 with 1 Axes>"
      ]
     },
     "metadata": {
      "needs_background": "light"
     }
    }
   ],
   "metadata": {}
  }
 ],
 "metadata": {
  "orig_nbformat": 4,
  "language_info": {
   "name": "python",
   "version": "3.8.5",
   "mimetype": "text/x-python",
   "codemirror_mode": {
    "name": "ipython",
    "version": 3
   },
   "pygments_lexer": "ipython3",
   "nbconvert_exporter": "python",
   "file_extension": ".py"
  },
  "kernelspec": {
   "name": "python3",
   "display_name": "Python 3.8.5 64-bit"
  },
  "interpreter": {
   "hash": "31f2aee4e71d21fbe5cf8b01ff0e069b9275f58929596ceb00d14d90e3e16cd6"
  }
 },
 "nbformat": 4,
 "nbformat_minor": 2
}